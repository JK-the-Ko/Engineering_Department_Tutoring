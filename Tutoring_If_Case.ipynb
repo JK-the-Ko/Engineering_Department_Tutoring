{
  "nbformat": 4,
  "nbformat_minor": 0,
  "metadata": {
    "colab": {
      "name": "Tutoring_2.ipynb",
      "provenance": [],
      "collapsed_sections": [],
      "authorship_tag": "ABX9TyMN+vcZFUG2UnNOu4tao0iq",
      "include_colab_link": true
    },
    "kernelspec": {
      "name": "python3",
      "display_name": "Python 3"
    }
  },
  "cells": [
    {
      "cell_type": "markdown",
      "metadata": {
        "id": "view-in-github",
        "colab_type": "text"
      },
      "source": [
        "<a href=\"https://colab.research.google.com/github/JaeKyunKo/Engineering_Department_Tutoring/blob/main/Tutoring_2.ipynb\" target=\"_parent\"><img src=\"https://colab.research.google.com/assets/colab-badge.svg\" alt=\"Open In Colab\"/></a>"
      ]
    },
    {
      "cell_type": "markdown",
      "metadata": {
        "id": "W8DdQTAd5L5s"
      },
      "source": [
        "Last Lecture : Importance of Data Conversion"
      ]
    },
    {
      "cell_type": "markdown",
      "metadata": {
        "id": "chYaPHof5qGf"
      },
      "source": [
        "This lecture, we will talk about logic and comparion operators"
      ]
    },
    {
      "cell_type": "code",
      "metadata": {
        "id": "Aw646fFW4KBo",
        "outputId": "607ce58b-481d-421d-cfe2-61779730ae3f",
        "colab": {
          "base_uri": "https://localhost:8080/",
          "height": 53
        }
      },
      "source": [
        "#Example of String\n",
        "nameOne = \"JaeKyun\"\n",
        "nameTwo = \"BongJin\"\n",
        "print(nameOne != nameTwo) #Not Equal?\n",
        "print(nameOne == nameTwo) #Equal?"
      ],
      "execution_count": null,
      "outputs": [
        {
          "output_type": "stream",
          "text": [
            "True\n",
            "False\n"
          ],
          "name": "stdout"
        }
      ]
    },
    {
      "cell_type": "code",
      "metadata": {
        "id": "80Y6CHeK4_w9",
        "outputId": "3b398081-200e-4543-9645-8f5f309a09f1",
        "colab": {
          "base_uri": "https://localhost:8080/",
          "height": 53
        }
      },
      "source": [
        "#Example of digits\n",
        "valueOne = 10\n",
        "valueTwo = 20\n",
        "print(valueOne < valueTwo) #valueTwo가 valueOne보다 크냐?\n",
        "print(valueOne >= valueTwo) #valueOne이 valueTwo 이상이냐?"
      ],
      "execution_count": null,
      "outputs": [
        {
          "output_type": "stream",
          "text": [
            "True\n",
            "False\n"
          ],
          "name": "stdout"
        }
      ]
    },
    {
      "cell_type": "markdown",
      "metadata": {
        "id": "gRZuAFiC7A0d"
      },
      "source": [
        "Before learning \"If Case\", we need to learn how to seperate different cases\n"
      ]
    },
    {
      "cell_type": "code",
      "metadata": {
        "id": "NnXLrDvC6c_Q"
      },
      "source": [
        "#and, or, not\n",
        "#caseA and caseB : caseA하고 caseB를 둘다 만족시켜야 True\n",
        "#caseA or CaseB : caseA 또는 caseB 중 하나만 만족시키면 True\n",
        "#not caseA : caseA가 False이면 not CaseA는 True\n"
      ],
      "execution_count": null,
      "outputs": []
    },
    {
      "cell_type": "code",
      "metadata": {
        "id": "7xhh-R6i7lB4",
        "outputId": "b3ff65cd-e4ca-4f22-e74f-ab4593c668db",
        "colab": {
          "base_uri": "https://localhost:8080/",
          "height": 35
        }
      },
      "source": [
        "percentage = 0.7\n",
        "percentOne = 0.9\n",
        "percentTwo = 0.8\n",
        "if percentOne > percentage and percentTwo > percentage :\n",
        "  print(\"good\")"
      ],
      "execution_count": null,
      "outputs": [
        {
          "output_type": "stream",
          "text": [
            "good\n"
          ],
          "name": "stdout"
        }
      ]
    },
    {
      "cell_type": "markdown",
      "metadata": {
        "id": "qmtBWORk9HCs"
      },
      "source": [
        "예시) 성적 판단 코드"
      ]
    },
    {
      "cell_type": "code",
      "metadata": {
        "id": "guQlAEeg7-Dq",
        "outputId": "5f48a80f-0549-495d-9d67-6a99e74edc4e",
        "colab": {
          "base_uri": "https://localhost:8080/",
          "height": 53
        }
      },
      "source": [
        "score = int(input())\n",
        "if 90 <= score <= 100 :\n",
        "  print(\"A\")\n",
        "elif 80 <= score <= 89 :\n",
        "  print(\"B\")\n",
        "elif 70 <= score <= 79 :\n",
        "  print(\"C\")\n",
        "elif 60 <= score <= 69 :\n",
        "  print(\"D\")\n",
        "else :\n",
        "  print(\"F\")"
      ],
      "execution_count": 21,
      "outputs": [
        {
          "output_type": "stream",
          "text": [
            "90\n",
            "A\n"
          ],
          "name": "stdout"
        }
      ]
    }
  ]
}
