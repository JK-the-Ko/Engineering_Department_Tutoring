{
  "nbformat": 4,
  "nbformat_minor": 0,
  "metadata": {
    "colab": {
      "name": "Tutoring_Numpy.ipynb",
      "provenance": [],
      "collapsed_sections": [],
      "authorship_tag": "ABX9TyN9Q8UNOeQKglpllPAF/9TY",
      "include_colab_link": true
    },
    "kernelspec": {
      "name": "python3",
      "display_name": "Python 3"
    }
  },
  "cells": [
    {
      "cell_type": "markdown",
      "metadata": {
        "id": "view-in-github",
        "colab_type": "text"
      },
      "source": [
        "<a href=\"https://colab.research.google.com/github/JaeKyunKo/Engineering_Department_Tutoring/blob/main/Tutoring_Numpy.ipynb\" target=\"_parent\"><img src=\"https://colab.research.google.com/assets/colab-badge.svg\" alt=\"Open In Colab\"/></a>"
      ]
    },
    {
      "cell_type": "markdown",
      "metadata": {
        "id": "nmZb0sKdq7zY"
      },
      "source": [
        "**Numpy (Python Library)**"
      ]
    },
    {
      "cell_type": "markdown",
      "metadata": {
        "id": "EHzHvu9crC21"
      },
      "source": [
        "List (Python Data Structure)"
      ]
    },
    {
      "cell_type": "code",
      "metadata": {
        "id": "wL6ZgvyGqWZV"
      },
      "source": [
        "#List Declaration\n",
        "lstOne, lstTwo = list(), list()"
      ],
      "execution_count": 1,
      "outputs": []
    },
    {
      "cell_type": "code",
      "metadata": {
        "id": "23OrL-0jqfsU"
      },
      "source": [
        "for i in range(5) :\n",
        "  lstOne.append(i)\n",
        "  lstTwo.append(i+1)"
      ],
      "execution_count": 2,
      "outputs": []
    },
    {
      "cell_type": "code",
      "metadata": {
        "colab": {
          "base_uri": "https://localhost:8080/"
        },
        "id": "H4Clhuxgqjnw",
        "outputId": "be789a77-5e60-42d2-fe1a-7e78be8da51b"
      },
      "source": [
        "print(lstOne, lstTwo)"
      ],
      "execution_count": 4,
      "outputs": [
        {
          "output_type": "stream",
          "text": [
            "[0, 1, 2, 3, 4] [1, 2, 3, 4, 5]\n"
          ],
          "name": "stdout"
        }
      ]
    },
    {
      "cell_type": "code",
      "metadata": {
        "id": "QDKfSeKeqmM8"
      },
      "source": [
        "lstNew = lstOne + lstTwo"
      ],
      "execution_count": 6,
      "outputs": []
    },
    {
      "cell_type": "code",
      "metadata": {
        "colab": {
          "base_uri": "https://localhost:8080/"
        },
        "id": "PH-IwpH3qqg9",
        "outputId": "d4e3d0dd-30a8-40bd-f774-a4fc6ccdab47"
      },
      "source": [
        "len(lstNew)"
      ],
      "execution_count": 7,
      "outputs": [
        {
          "output_type": "execute_result",
          "data": {
            "text/plain": [
              "10"
            ]
          },
          "metadata": {
            "tags": []
          },
          "execution_count": 7
        }
      ]
    },
    {
      "cell_type": "markdown",
      "metadata": {
        "id": "xmUY9clhrE_H"
      },
      "source": [
        "**Import Numpy Libraray**"
      ]
    },
    {
      "cell_type": "code",
      "metadata": {
        "id": "yJp7As2tq41W"
      },
      "source": [
        "import numpy as np"
      ],
      "execution_count": 8,
      "outputs": []
    },
    {
      "cell_type": "markdown",
      "metadata": {
        "id": "YklNWrwm043H"
      },
      "source": [
        "**Data Types in Numpy**"
      ]
    },
    {
      "cell_type": "code",
      "metadata": {
        "colab": {
          "base_uri": "https://localhost:8080/"
        },
        "id": "v7VGRW9r0nk0",
        "outputId": "f6d65492-261a-488e-cb74-ab7e656a8882"
      },
      "source": [
        "np.int"
      ],
      "execution_count": 80,
      "outputs": [
        {
          "output_type": "execute_result",
          "data": {
            "text/plain": [
              "int"
            ]
          },
          "metadata": {
            "tags": []
          },
          "execution_count": 80
        }
      ]
    },
    {
      "cell_type": "code",
      "metadata": {
        "colab": {
          "base_uri": "https://localhost:8080/"
        },
        "id": "pnyuRZ_70_if",
        "outputId": "e7c59c73-5e12-4122-8c41-ab059d0d2872"
      },
      "source": [
        "np.float"
      ],
      "execution_count": 81,
      "outputs": [
        {
          "output_type": "execute_result",
          "data": {
            "text/plain": [
              "float"
            ]
          },
          "metadata": {
            "tags": []
          },
          "execution_count": 81
        }
      ]
    },
    {
      "cell_type": "code",
      "metadata": {
        "colab": {
          "base_uri": "https://localhost:8080/"
        },
        "id": "Ng5C5eN41AfG",
        "outputId": "43ae8956-f14c-4255-9fa7-2a46f392a65a"
      },
      "source": [
        "np.complex"
      ],
      "execution_count": 82,
      "outputs": [
        {
          "output_type": "execute_result",
          "data": {
            "text/plain": [
              "complex"
            ]
          },
          "metadata": {
            "tags": []
          },
          "execution_count": 82
        }
      ]
    },
    {
      "cell_type": "code",
      "metadata": {
        "colab": {
          "base_uri": "https://localhost:8080/"
        },
        "id": "gL87DLAA1Bne",
        "outputId": "3582dc8a-5e56-47e2-dc7d-e90952efee17"
      },
      "source": [
        "np.bool"
      ],
      "execution_count": 83,
      "outputs": [
        {
          "output_type": "execute_result",
          "data": {
            "text/plain": [
              "bool"
            ]
          },
          "metadata": {
            "tags": []
          },
          "execution_count": 83
        }
      ]
    },
    {
      "cell_type": "code",
      "metadata": {
        "colab": {
          "base_uri": "https://localhost:8080/"
        },
        "id": "BluH_aGY1FVm",
        "outputId": "36a75e70-fecb-4dd2-8c3d-f450c1b4e3a8"
      },
      "source": [
        "np.string_"
      ],
      "execution_count": 84,
      "outputs": [
        {
          "output_type": "execute_result",
          "data": {
            "text/plain": [
              "numpy.bytes_"
            ]
          },
          "metadata": {
            "tags": []
          },
          "execution_count": 84
        }
      ]
    },
    {
      "cell_type": "markdown",
      "metadata": {
        "id": "EWL2i8EQrhq2"
      },
      "source": [
        "**Numpy Array Declaration**\n",
        "\n",
        "np.array(list_name, data_type)\n",
        "\n",
        "data_type -> int / float / str / ..."
      ]
    },
    {
      "cell_type": "code",
      "metadata": {
        "id": "3Q01BOUJsbDy"
      },
      "source": [
        "arrayExample = np.array([1,2])"
      ],
      "execution_count": 20,
      "outputs": []
    },
    {
      "cell_type": "code",
      "metadata": {
        "id": "gKweYv9PrJ7F"
      },
      "source": [
        "arrayOne = np.array(lstOne, float)\n",
        "arrayTwo = np.array(lstTwo, int)"
      ],
      "execution_count": 40,
      "outputs": []
    },
    {
      "cell_type": "code",
      "metadata": {
        "colab": {
          "base_uri": "https://localhost:8080/"
        },
        "id": "BEQmSPqUugdH",
        "outputId": "f1f0ba3c-f14b-4b34-af87-5308d1e24ddd"
      },
      "source": [
        "for i in range(5) :\n",
        "  print(type(arrayOne[i]))"
      ],
      "execution_count": 41,
      "outputs": [
        {
          "output_type": "stream",
          "text": [
            "<class 'numpy.float64'>\n",
            "<class 'numpy.float64'>\n",
            "<class 'numpy.float64'>\n",
            "<class 'numpy.float64'>\n",
            "<class 'numpy.float64'>\n"
          ],
          "name": "stdout"
        }
      ]
    },
    {
      "cell_type": "code",
      "metadata": {
        "colab": {
          "base_uri": "https://localhost:8080/"
        },
        "id": "eGfR5fDyrMEZ",
        "outputId": "e6a184db-e788-40cd-bc6c-80f3065f0c1d"
      },
      "source": [
        "print(arrayOne, arrayTwo)\n",
        "print(type(lstOne), type(lstTwo))\n",
        "print(type(arrayOne), type(arrayTwo))"
      ],
      "execution_count": 42,
      "outputs": [
        {
          "output_type": "stream",
          "text": [
            "[0. 1. 2. 3. 4.] [1 2 3 4 5]\n",
            "<class 'list'> <class 'list'>\n",
            "<class 'numpy.ndarray'> <class 'numpy.ndarray'>\n"
          ],
          "name": "stdout"
        }
      ]
    },
    {
      "cell_type": "markdown",
      "metadata": {
        "id": "Yz3T8eOHr6aC"
      },
      "source": [
        "Index Addition Implementation"
      ]
    },
    {
      "cell_type": "code",
      "metadata": {
        "id": "Yvq2svUErWie"
      },
      "source": [
        "arrayNew = arrayOne + arrayTwo"
      ],
      "execution_count": 43,
      "outputs": []
    },
    {
      "cell_type": "code",
      "metadata": {
        "colab": {
          "base_uri": "https://localhost:8080/"
        },
        "id": "k76yNhk8rvSb",
        "outputId": "2bd38784-a2f1-4b8b-a7ca-2dc9332bff9a"
      },
      "source": [
        "print(arrayNew)"
      ],
      "execution_count": 44,
      "outputs": [
        {
          "output_type": "stream",
          "text": [
            "[1. 3. 5. 7. 9.]\n"
          ],
          "name": "stdout"
        }
      ]
    },
    {
      "cell_type": "markdown",
      "metadata": {
        "id": "46djzRy3r3GU"
      },
      "source": [
        "Same Implementation with Python list"
      ]
    },
    {
      "cell_type": "code",
      "metadata": {
        "id": "gyRD6FXAr2zG"
      },
      "source": [
        "for i in range(5) :\n",
        "  arrayNew[i] = arrayOne[i] + arrayTwo[i]"
      ],
      "execution_count": 18,
      "outputs": []
    },
    {
      "cell_type": "code",
      "metadata": {
        "colab": {
          "base_uri": "https://localhost:8080/"
        },
        "id": "LqT--hurrxUQ",
        "outputId": "2451fb33-28cd-44cb-ff44-d59f889c3566"
      },
      "source": [
        "print(arrayNew)"
      ],
      "execution_count": 19,
      "outputs": [
        {
          "output_type": "stream",
          "text": [
            "[1 3 5 7 9]\n"
          ],
          "name": "stdout"
        }
      ]
    },
    {
      "cell_type": "markdown",
      "metadata": {
        "id": "RB_JlKVytBgr"
      },
      "source": [
        "**2D or N-Dimensional Array Declaration**"
      ]
    },
    {
      "cell_type": "code",
      "metadata": {
        "id": "SQryPwhZso0g"
      },
      "source": [
        "array2D = np.array([[1,2,3], [4,5,6]])"
      ],
      "execution_count": 23,
      "outputs": []
    },
    {
      "cell_type": "code",
      "metadata": {
        "colab": {
          "base_uri": "https://localhost:8080/"
        },
        "id": "rsG1Dg_0s-iN",
        "outputId": "6e245c87-3b3f-4c6d-f45f-b1a822b5f789"
      },
      "source": [
        "print(array2D)"
      ],
      "execution_count": 24,
      "outputs": [
        {
          "output_type": "stream",
          "text": [
            "[[1 2 3]\n",
            " [4 5 6]]\n"
          ],
          "name": "stdout"
        }
      ]
    },
    {
      "cell_type": "markdown",
      "metadata": {
        "id": "8BHkVDIDtXmh"
      },
      "source": [
        "**Finding Array Size(Shape)**"
      ]
    },
    {
      "cell_type": "code",
      "metadata": {
        "id": "oUg7LyA0tAR4"
      },
      "source": [
        "n, m = np.shape(array2D)"
      ],
      "execution_count": 45,
      "outputs": []
    },
    {
      "cell_type": "code",
      "metadata": {
        "colab": {
          "base_uri": "https://localhost:8080/"
        },
        "id": "Vl3Rc3NytlqR",
        "outputId": "61fb3193-b492-4727-82ff-ec9503c88802"
      },
      "source": [
        "print(n, m)"
      ],
      "execution_count": 48,
      "outputs": [
        {
          "output_type": "stream",
          "text": [
            "2 3\n"
          ],
          "name": "stdout"
        }
      ]
    },
    {
      "cell_type": "markdown",
      "metadata": {
        "id": "NxAj1EnevT4s"
      },
      "source": [
        "**Initializing Array Size**\n",
        "\n",
        "Python -> Declaration + Initialization \n",
        "\n",
        "Therefore, cannot set the size of array before Initialization"
      ]
    },
    {
      "cell_type": "code",
      "metadata": {
        "id": "RBC6dzqXvMTl"
      },
      "source": [
        "n, m = 3, 3\n",
        "arrayInit = np.zeros((n,m))"
      ],
      "execution_count": 50,
      "outputs": []
    },
    {
      "cell_type": "code",
      "metadata": {
        "colab": {
          "base_uri": "https://localhost:8080/"
        },
        "id": "PJ5LwMw8vqkk",
        "outputId": "a9de6e18-f3c2-48f9-8c7b-546893e6586e"
      },
      "source": [
        "print(arrayInit)"
      ],
      "execution_count": 51,
      "outputs": [
        {
          "output_type": "stream",
          "text": [
            "[[0. 0. 0.]\n",
            " [0. 0. 0.]\n",
            " [0. 0. 0.]]\n"
          ],
          "name": "stdout"
        }
      ]
    },
    {
      "cell_type": "code",
      "metadata": {
        "colab": {
          "base_uri": "https://localhost:8080/"
        },
        "id": "jTjm13iWv3Q7",
        "outputId": "6fefeb2f-d9e0-4872-d1f5-ad331687b1ba"
      },
      "source": [
        "arrayInit = np.ones((n,m))\n",
        "print(arrayInit)"
      ],
      "execution_count": 53,
      "outputs": [
        {
          "output_type": "stream",
          "text": [
            "[[1. 1. 1.]\n",
            " [1. 1. 1.]\n",
            " [1. 1. 1.]]\n"
          ],
          "name": "stdout"
        }
      ]
    },
    {
      "cell_type": "code",
      "metadata": {
        "colab": {
          "base_uri": "https://localhost:8080/"
        },
        "id": "hmDaqBeSv7uy",
        "outputId": "023d8619-02d6-450c-8780-0ec1d5e6bd1b"
      },
      "source": [
        "numFull = 255\n",
        "arrayInit = np.full((n,m), numFull)\n",
        "print(arrayInit)"
      ],
      "execution_count": 54,
      "outputs": [
        {
          "output_type": "stream",
          "text": [
            "[[255 255 255]\n",
            " [255 255 255]\n",
            " [255 255 255]]\n"
          ],
          "name": "stdout"
        }
      ]
    },
    {
      "cell_type": "code",
      "metadata": {
        "colab": {
          "base_uri": "https://localhost:8080/"
        },
        "id": "gluCb8T4wEfo",
        "outputId": "67d67869-b80d-4430-b268-6e547ff8cda2"
      },
      "source": [
        "unitMatrix = np.eye(3)\n",
        "print(unitMatrix)"
      ],
      "execution_count": 55,
      "outputs": [
        {
          "output_type": "stream",
          "text": [
            "[[1. 0. 0.]\n",
            " [0. 1. 0.]\n",
            " [0. 0. 1.]]\n"
          ],
          "name": "stdout"
        }
      ]
    },
    {
      "cell_type": "code",
      "metadata": {
        "colab": {
          "base_uri": "https://localhost:8080/"
        },
        "id": "2pVF5XoPx5fc",
        "outputId": "80a9ed6a-9de1-482e-b01b-9d7af99d5cfe"
      },
      "source": [
        "startPoint = 0\n",
        "endPoint = 10\n",
        "stepSize = 1\n",
        "np.arange(startPoint ,endPoint ,stepSize)"
      ],
      "execution_count": 72,
      "outputs": [
        {
          "output_type": "execute_result",
          "data": {
            "text/plain": [
              "array([0, 1, 2, 3, 4, 5, 6, 7, 8, 9])"
            ]
          },
          "metadata": {
            "tags": []
          },
          "execution_count": 72
        }
      ]
    },
    {
      "cell_type": "code",
      "metadata": {
        "colab": {
          "base_uri": "https://localhost:8080/"
        },
        "id": "NegVQHi0y7QB",
        "outputId": "89087de1-b945-4196-8457-3a5f3de2a358"
      },
      "source": [
        "divisionSize = 10\n",
        "np.linspace(startPoint, endPoint, divisionSize)"
      ],
      "execution_count": 73,
      "outputs": [
        {
          "output_type": "execute_result",
          "data": {
            "text/plain": [
              "array([ 0.        ,  1.11111111,  2.22222222,  3.33333333,  4.44444444,\n",
              "        5.55555556,  6.66666667,  7.77777778,  8.88888889, 10.        ])"
            ]
          },
          "metadata": {
            "tags": []
          },
          "execution_count": 73
        }
      ]
    },
    {
      "cell_type": "code",
      "metadata": {
        "colab": {
          "base_uri": "https://localhost:8080/"
        },
        "id": "Bnd8PAuNzOHW",
        "outputId": "71b2cad6-bd98-4621-a27c-b6b2494caee8"
      },
      "source": [
        "np.random.random((2,2))"
      ],
      "execution_count": 75,
      "outputs": [
        {
          "output_type": "execute_result",
          "data": {
            "text/plain": [
              "array([[0.90007617, 0.36435282],\n",
              "       [0.48766634, 0.93217602]])"
            ]
          },
          "metadata": {
            "tags": []
          },
          "execution_count": 75
        }
      ]
    },
    {
      "cell_type": "code",
      "metadata": {
        "id": "hEGdEcly0Tm-"
      },
      "source": [
        "arrayEmpty = np.empty((3,3))"
      ],
      "execution_count": 76,
      "outputs": []
    },
    {
      "cell_type": "code",
      "metadata": {
        "colab": {
          "base_uri": "https://localhost:8080/"
        },
        "id": "ZbMLucyR0lkz",
        "outputId": "45be6b58-93e0-40dc-829b-84a86ce02274"
      },
      "source": [
        "print(arrayEmpty)"
      ],
      "execution_count": 79,
      "outputs": [
        {
          "output_type": "stream",
          "text": [
            "[[ 1.11111111  2.22222222  3.33333333]\n",
            " [ 4.44444444  5.55555556  6.66666667]\n",
            " [ 7.77777778  8.88888889 10.        ]]\n"
          ],
          "name": "stdout"
        }
      ]
    },
    {
      "cell_type": "markdown",
      "metadata": {
        "id": "L128qJU01Q0g"
      },
      "source": [
        "**Numpy Array Indexing and Slicing**"
      ]
    },
    {
      "cell_type": "code",
      "metadata": {
        "id": "TZmDBsbD1Him"
      },
      "source": [
        "#Declaring and Initializing New 2D List\n",
        "lstNew = list()\n",
        "for i in range(10) :\n",
        "  lstAppend = list()\n",
        "  for j in range(10) :\n",
        "    lstAppend.append(i * j)\n",
        "  lstNew.append(lstAppend)"
      ],
      "execution_count": 89,
      "outputs": []
    },
    {
      "cell_type": "code",
      "metadata": {
        "id": "dfqW9ZhV2HgF"
      },
      "source": [
        "#List To Array\n",
        "arrayNew = np.array(lstNew)"
      ],
      "execution_count": 90,
      "outputs": []
    },
    {
      "cell_type": "code",
      "metadata": {
        "id": "9XVzvF222NdN"
      },
      "source": [
        "arraySliced = arrayNew[:7]"
      ],
      "execution_count": 96,
      "outputs": []
    },
    {
      "cell_type": "code",
      "metadata": {
        "id": "tADhU8CB2Ow8"
      },
      "source": [
        "arraySlicedSliced = arraySliced[:, :5]"
      ],
      "execution_count": 101,
      "outputs": []
    },
    {
      "cell_type": "code",
      "metadata": {
        "colab": {
          "base_uri": "https://localhost:8080/"
        },
        "id": "njGbvM4W2sM5",
        "outputId": "d1c00d0f-6eb3-46b7-ad7b-d3c086e10192"
      },
      "source": [
        "print(\"Original Array\")\n",
        "print(arrayNew)\n",
        "print(\"Sliced Array\")\n",
        "print(arraySliced)\n",
        "print(\"Twice Sliced Array\")\n",
        "print(arraySlicedSliced)"
      ],
      "execution_count": 104,
      "outputs": [
        {
          "output_type": "stream",
          "text": [
            "Original Array\n",
            "[[ 0  0  0  0  0  0  0  0  0  0]\n",
            " [ 0  1  2  3  4  5  6  7  8  9]\n",
            " [ 0  2  4  6  8 10 12 14 16 18]\n",
            " [ 0  3  6  9 12 15 18 21 24 27]\n",
            " [ 0  4  8 12 16 20 24 28 32 36]\n",
            " [ 0  5 10 15 20 25 30 35 40 45]\n",
            " [ 0  6 12 18 24 30 36 42 48 54]\n",
            " [ 0  7 14 21 28 35 42 49 56 63]\n",
            " [ 0  8 16 24 32 40 48 56 64 72]\n",
            " [ 0  9 18 27 36 45 54 63 72 81]]\n",
            "Sliced Array\n",
            "[[ 0  0  0  0  0  0  0  0  0  0]\n",
            " [ 0  1  2  3  4  5  6  7  8  9]\n",
            " [ 0  2  4  6  8 10 12 14 16 18]\n",
            " [ 0  3  6  9 12 15 18 21 24 27]\n",
            " [ 0  4  8 12 16 20 24 28 32 36]\n",
            " [ 0  5 10 15 20 25 30 35 40 45]\n",
            " [ 0  6 12 18 24 30 36 42 48 54]]\n",
            "Twice Sliced Array\n",
            "[[ 0  0  0  0  0]\n",
            " [ 0  1  2  3  4]\n",
            " [ 0  2  4  6  8]\n",
            " [ 0  3  6  9 12]\n",
            " [ 0  4  8 12 16]\n",
            " [ 0  5 10 15 20]\n",
            " [ 0  6 12 18 24]]\n"
          ],
          "name": "stdout"
        }
      ]
    },
    {
      "cell_type": "markdown",
      "metadata": {
        "id": "qe504peE7SFf"
      },
      "source": [
        "**Numpy Array Reshape**"
      ]
    },
    {
      "cell_type": "code",
      "metadata": {
        "colab": {
          "base_uri": "https://localhost:8080/"
        },
        "id": "b1ma_71k7UOc",
        "outputId": "9f20b3d9-51af-4fb2-ea70-4fff19569791"
      },
      "source": [
        "np.shape(arrayNew)"
      ],
      "execution_count": 152,
      "outputs": [
        {
          "output_type": "execute_result",
          "data": {
            "text/plain": [
              "(10, 10)"
            ]
          },
          "metadata": {
            "tags": []
          },
          "execution_count": 152
        }
      ]
    },
    {
      "cell_type": "code",
      "metadata": {
        "colab": {
          "base_uri": "https://localhost:8080/"
        },
        "id": "lDKDOn1Y7fsE",
        "outputId": "5f6826fa-7ce8-4177-ec6e-029628c9e866"
      },
      "source": [
        "arrayNew.reshape(100, -1) #100x1 Array\n",
        "arrayNew.reshape(-1, 100) #1x100 Array"
      ],
      "execution_count": 163,
      "outputs": [
        {
          "output_type": "execute_result",
          "data": {
            "text/plain": [
              "array([[ 0,  0,  0,  0,  0,  0,  0,  0,  0,  0,  0,  1,  2,  3,  4,  5,\n",
              "         6,  7,  8,  9,  0,  2,  4,  6,  8, 10, 12, 14, 16, 18,  0,  3,\n",
              "         6,  9, 12, 15, 18, 21, 24, 27,  0,  4,  8, 12, 16, 20, 24, 28,\n",
              "        32, 36,  0,  5, 10, 15, 20, 25, 30, 35, 40, 45,  0,  6, 12, 18,\n",
              "        24, 30, 36, 42, 48, 54,  0,  7, 14, 21, 28, 35, 42, 49, 56, 63,\n",
              "         0,  8, 16, 24, 32, 40, 48, 56, 64, 72,  0,  9, 18, 27, 36, 45,\n",
              "        54, 63, 72, 81]])"
            ]
          },
          "metadata": {
            "tags": []
          },
          "execution_count": 163
        }
      ]
    },
    {
      "cell_type": "markdown",
      "metadata": {
        "id": "lUjXrdZv3kYW"
      },
      "source": [
        "**Numpy Array Mathematics**"
      ]
    },
    {
      "cell_type": "code",
      "metadata": {
        "id": "FtZzvqnE2uHZ"
      },
      "source": [
        "arrayOne = np.random.randint(10, size = (3,3))\n",
        "arrayTwo = np.random.randint(10, size = (3,3))"
      ],
      "execution_count": 111,
      "outputs": []
    },
    {
      "cell_type": "code",
      "metadata": {
        "colab": {
          "base_uri": "https://localhost:8080/"
        },
        "id": "xANoGV7C35kB",
        "outputId": "af4173e7-4d68-4b93-b54c-6efb26aada9d"
      },
      "source": [
        "print(arrayOne)\n",
        "print()\n",
        "print(arrayTwo)"
      ],
      "execution_count": 116,
      "outputs": [
        {
          "output_type": "stream",
          "text": [
            "[[6 3 4]\n",
            " [3 3 2]\n",
            " [0 3 3]]\n",
            "\n",
            "[[6 5 8]\n",
            " [8 4 7]\n",
            " [5 6 2]]\n"
          ],
          "name": "stdout"
        }
      ]
    },
    {
      "cell_type": "code",
      "metadata": {
        "colab": {
          "base_uri": "https://localhost:8080/"
        },
        "id": "qi8aW5c24CpL",
        "outputId": "9dc623fd-6133-4a16-c215-97b775b82885"
      },
      "source": [
        "print(arrayOne + arrayTwo)"
      ],
      "execution_count": 127,
      "outputs": [
        {
          "output_type": "stream",
          "text": [
            "[[12  8 12]\n",
            " [11  7  9]\n",
            " [ 5  9  5]]\n"
          ],
          "name": "stdout"
        }
      ]
    },
    {
      "cell_type": "code",
      "metadata": {
        "colab": {
          "base_uri": "https://localhost:8080/"
        },
        "id": "K3cWf45L4g9A",
        "outputId": "a3802b3a-faff-4e2d-ac3b-b13e98d6f0da"
      },
      "source": [
        "np.add(arrayOne, arrayTwo)"
      ],
      "execution_count": 128,
      "outputs": [
        {
          "output_type": "execute_result",
          "data": {
            "text/plain": [
              "array([[12,  8, 12],\n",
              "       [11,  7,  9],\n",
              "       [ 5,  9,  5]])"
            ]
          },
          "metadata": {
            "tags": []
          },
          "execution_count": 128
        }
      ]
    },
    {
      "cell_type": "code",
      "metadata": {
        "colab": {
          "base_uri": "https://localhost:8080/"
        },
        "id": "6MCYumCt4SFY",
        "outputId": "25075ca7-d2d1-44ac-bb3d-5fb511db9702"
      },
      "source": [
        "print(arrayOne - arrayTwo)"
      ],
      "execution_count": 129,
      "outputs": [
        {
          "output_type": "stream",
          "text": [
            "[[ 0 -2 -4]\n",
            " [-5 -1 -5]\n",
            " [-5 -3  1]]\n"
          ],
          "name": "stdout"
        }
      ]
    },
    {
      "cell_type": "code",
      "metadata": {
        "colab": {
          "base_uri": "https://localhost:8080/"
        },
        "id": "cmAJ30Q94Xl9",
        "outputId": "366a77a2-fcd2-4447-af5c-918af0e60697"
      },
      "source": [
        "np.subtract(arrayOne, arrayTwo)"
      ],
      "execution_count": 130,
      "outputs": [
        {
          "output_type": "execute_result",
          "data": {
            "text/plain": [
              "array([[ 0, -2, -4],\n",
              "       [-5, -1, -5],\n",
              "       [-5, -3,  1]])"
            ]
          },
          "metadata": {
            "tags": []
          },
          "execution_count": 130
        }
      ]
    },
    {
      "cell_type": "code",
      "metadata": {
        "colab": {
          "base_uri": "https://localhost:8080/"
        },
        "id": "7RuGSeMB4dXa",
        "outputId": "603a5279-e254-48a2-eba3-4175d816101d"
      },
      "source": [
        "np.divide(arrayOne, arrayTwo)"
      ],
      "execution_count": 134,
      "outputs": [
        {
          "output_type": "execute_result",
          "data": {
            "text/plain": [
              "array([[1.        , 0.6       , 0.5       ],\n",
              "       [0.375     , 0.75      , 0.28571429],\n",
              "       [0.        , 0.5       , 1.5       ]])"
            ]
          },
          "metadata": {
            "tags": []
          },
          "execution_count": 134
        }
      ]
    },
    {
      "cell_type": "code",
      "metadata": {
        "colab": {
          "base_uri": "https://localhost:8080/"
        },
        "id": "WTcKfqV-4zCo",
        "outputId": "3733eaac-7cbb-4c90-d4f5-6357905edbf9"
      },
      "source": [
        "np.exp(arrayOne)"
      ],
      "execution_count": 135,
      "outputs": [
        {
          "output_type": "execute_result",
          "data": {
            "text/plain": [
              "array([[403.42879349,  20.08553692,  54.59815003],\n",
              "       [ 20.08553692,  20.08553692,   7.3890561 ],\n",
              "       [  1.        ,  20.08553692,  20.08553692]])"
            ]
          },
          "metadata": {
            "tags": []
          },
          "execution_count": 135
        }
      ]
    },
    {
      "cell_type": "code",
      "metadata": {
        "colab": {
          "base_uri": "https://localhost:8080/"
        },
        "id": "TAriVvTm5Qze",
        "outputId": "c5aa9af6-0d3f-4596-cd6e-718348843087"
      },
      "source": [
        "np.sqrt(arrayOne)"
      ],
      "execution_count": 136,
      "outputs": [
        {
          "output_type": "execute_result",
          "data": {
            "text/plain": [
              "array([[2.44948974, 1.73205081, 2.        ],\n",
              "       [1.73205081, 1.73205081, 1.41421356],\n",
              "       [0.        , 1.73205081, 1.73205081]])"
            ]
          },
          "metadata": {
            "tags": []
          },
          "execution_count": 136
        }
      ]
    },
    {
      "cell_type": "code",
      "metadata": {
        "colab": {
          "base_uri": "https://localhost:8080/"
        },
        "id": "BSkZyaxw5UKH",
        "outputId": "31a34a79-d907-441a-8394-b1a6b331b8fa"
      },
      "source": [
        "np.sin(arrayOne)"
      ],
      "execution_count": 138,
      "outputs": [
        {
          "output_type": "execute_result",
          "data": {
            "text/plain": [
              "array([[-0.2794155 ,  0.14112001, -0.7568025 ],\n",
              "       [ 0.14112001,  0.14112001,  0.90929743],\n",
              "       [ 0.        ,  0.14112001,  0.14112001]])"
            ]
          },
          "metadata": {
            "tags": []
          },
          "execution_count": 138
        }
      ]
    },
    {
      "cell_type": "code",
      "metadata": {
        "colab": {
          "base_uri": "https://localhost:8080/"
        },
        "id": "mVNr7XXw5X0g",
        "outputId": "d0cd3d61-64fa-4161-d5d5-1ca77207976e"
      },
      "source": [
        "np.cos(arrayOne)"
      ],
      "execution_count": 139,
      "outputs": [
        {
          "output_type": "execute_result",
          "data": {
            "text/plain": [
              "array([[ 0.96017029, -0.9899925 , -0.65364362],\n",
              "       [-0.9899925 , -0.9899925 , -0.41614684],\n",
              "       [ 1.        , -0.9899925 , -0.9899925 ]])"
            ]
          },
          "metadata": {
            "tags": []
          },
          "execution_count": 139
        }
      ]
    },
    {
      "cell_type": "code",
      "metadata": {
        "colab": {
          "base_uri": "https://localhost:8080/"
        },
        "id": "kGaA4z-35auk",
        "outputId": "5cca561c-08d8-4f2c-c5ea-c0d5dcd35256"
      },
      "source": [
        "np.dot(arrayOne, arrayTwo) #2D Array -> np.dot == np.matmul"
      ],
      "execution_count": 140,
      "outputs": [
        {
          "output_type": "execute_result",
          "data": {
            "text/plain": [
              "array([[80, 66, 77],\n",
              "       [52, 39, 49],\n",
              "       [39, 30, 27]])"
            ]
          },
          "metadata": {
            "tags": []
          },
          "execution_count": 140
        }
      ]
    },
    {
      "cell_type": "code",
      "metadata": {
        "colab": {
          "base_uri": "https://localhost:8080/"
        },
        "id": "Hi8bsgfO5mrz",
        "outputId": "880d9ea9-eec0-4f69-f7bc-15db19736a73"
      },
      "source": [
        "np.matmul(arrayOne, arrayTwo)"
      ],
      "execution_count": 141,
      "outputs": [
        {
          "output_type": "execute_result",
          "data": {
            "text/plain": [
              "array([[80, 66, 77],\n",
              "       [52, 39, 49],\n",
              "       [39, 30, 27]])"
            ]
          },
          "metadata": {
            "tags": []
          },
          "execution_count": 141
        }
      ]
    },
    {
      "cell_type": "code",
      "metadata": {
        "colab": {
          "base_uri": "https://localhost:8080/"
        },
        "id": "h0ZRnet950d4",
        "outputId": "abbeed55-557b-4b53-e3f3-a336761f5446"
      },
      "source": [
        "np.transpose(arrayOne) #Very Useful when Finding Eigenvector / Eigenvalue"
      ],
      "execution_count": 142,
      "outputs": [
        {
          "output_type": "execute_result",
          "data": {
            "text/plain": [
              "array([[6, 3, 0],\n",
              "       [3, 3, 3],\n",
              "       [4, 2, 3]])"
            ]
          },
          "metadata": {
            "tags": []
          },
          "execution_count": 142
        }
      ]
    },
    {
      "cell_type": "code",
      "metadata": {
        "colab": {
          "base_uri": "https://localhost:8080/"
        },
        "id": "A9dnyVni54uh",
        "outputId": "3a3d8f6c-9d36-40e5-b355-bc69608f6a2a"
      },
      "source": [
        "np.linalg.inv(arrayOne)"
      ],
      "execution_count": 144,
      "outputs": [
        {
          "output_type": "execute_result",
          "data": {
            "text/plain": [
              "array([[ 0.11111111,  0.11111111, -0.22222222],\n",
              "       [-0.33333333,  0.66666667,  0.        ],\n",
              "       [ 0.33333333, -0.66666667,  0.33333333]])"
            ]
          },
          "metadata": {
            "tags": []
          },
          "execution_count": 144
        }
      ]
    },
    {
      "cell_type": "markdown",
      "metadata": {
        "id": "rimFaDXn65qy"
      },
      "source": [
        "**Element Comparison**"
      ]
    },
    {
      "cell_type": "code",
      "metadata": {
        "colab": {
          "base_uri": "https://localhost:8080/"
        },
        "id": "jSFhRP8t7DbX",
        "outputId": "bada7588-7ba5-4412-a8eb-a3148d010b6c"
      },
      "source": [
        "print(arrayOne)\n",
        "print(arrayTwo)"
      ],
      "execution_count": 149,
      "outputs": [
        {
          "output_type": "stream",
          "text": [
            "[[6 3 4]\n",
            " [3 3 2]\n",
            " [0 3 3]]\n",
            "[[6 5 8]\n",
            " [8 4 7]\n",
            " [5 6 2]]\n"
          ],
          "name": "stdout"
        }
      ]
    },
    {
      "cell_type": "code",
      "metadata": {
        "colab": {
          "base_uri": "https://localhost:8080/"
        },
        "id": "zXomQyig6-OJ",
        "outputId": "f8256812-833c-41b2-85ab-e227d5e1396d"
      },
      "source": [
        "arrayOne == arrayTwo"
      ],
      "execution_count": 148,
      "outputs": [
        {
          "output_type": "execute_result",
          "data": {
            "text/plain": [
              "array([[ True, False, False],\n",
              "       [False, False, False],\n",
              "       [False, False, False]])"
            ]
          },
          "metadata": {
            "tags": []
          },
          "execution_count": 148
        }
      ]
    },
    {
      "cell_type": "code",
      "metadata": {
        "colab": {
          "base_uri": "https://localhost:8080/"
        },
        "id": "b6a_zCwP7BhH",
        "outputId": "c03277d9-885c-403b-ba73-ce171309bcb4"
      },
      "source": [
        "arrayOne > arrayTwo"
      ],
      "execution_count": 150,
      "outputs": [
        {
          "output_type": "execute_result",
          "data": {
            "text/plain": [
              "array([[False, False, False],\n",
              "       [False, False, False],\n",
              "       [False, False,  True]])"
            ]
          },
          "metadata": {
            "tags": []
          },
          "execution_count": 150
        }
      ]
    },
    {
      "cell_type": "markdown",
      "metadata": {
        "id": "1-X5kviI8nsK"
      },
      "source": [
        "**Assignment Review**"
      ]
    },
    {
      "cell_type": "markdown",
      "metadata": {
        "id": "AIoPcLw_8t0z"
      },
      "source": [
        "**2-1. 어떻게 numpy의 array를 나눌 수 있을까?**\n",
        "\n",
        "**Splitting Arrays!**\n",
        "**[[1 2 3], [4 5 6]]으로 만들어 져있는 numpy array을 [1 2 3] array과 [4 5 6] array로 나누는 것을 실습해보자.**\n",
        "\n",
        "**그리고 [1 4] [2 5] [3 6]으로도 나누어보자.**"
      ]
    },
    {
      "cell_type": "code",
      "metadata": {
        "id": "2FKmBYe78tTZ"
      },
      "source": [
        "array2D = np.array([[1,2,3], [4,5,6]])"
      ],
      "execution_count": 166,
      "outputs": []
    },
    {
      "cell_type": "code",
      "metadata": {
        "id": "4n1kl2iP8pw-"
      },
      "source": [
        "arrayIdxOne = array2D[0]\n",
        "arrayIdxTwo = array2D[1]"
      ],
      "execution_count": 170,
      "outputs": []
    },
    {
      "cell_type": "code",
      "metadata": {
        "colab": {
          "base_uri": "https://localhost:8080/"
        },
        "id": "_Hmpde1F9adp",
        "outputId": "4361d173-59a9-4c3c-8802-6774adb4ccf4"
      },
      "source": [
        "print(arrayIdxOne)\n",
        "print(arrayIdxTwo)"
      ],
      "execution_count": 171,
      "outputs": [
        {
          "output_type": "stream",
          "text": [
            "[1 2 3]\n",
            "[4 5 6]\n"
          ],
          "name": "stdout"
        }
      ]
    },
    {
      "cell_type": "code",
      "metadata": {
        "colab": {
          "base_uri": "https://localhost:8080/"
        },
        "id": "c6pazqdt9cX3",
        "outputId": "fb8833a2-dbc1-4ee3-b7fa-7c6cca39310c"
      },
      "source": [
        "for i in range(3) : #0, 1, 2\n",
        "  print(array2D[:, i:i+1])"
      ],
      "execution_count": 174,
      "outputs": [
        {
          "output_type": "stream",
          "text": [
            "[[1]\n",
            " [4]]\n",
            "[[2]\n",
            " [5]]\n",
            "[[3]\n",
            " [6]]\n"
          ],
          "name": "stdout"
        }
      ]
    },
    {
      "cell_type": "markdown",
      "metadata": {
        "id": "RCZ0evxc-Hq0"
      },
      "source": [
        "**2-2. 연립방정식을 풀어보자.**\n",
        "\n",
        "**3x1+2x2+x3=7** \n",
        "\n",
        "**x1−x2+3x3=3** \n",
        "\n",
        "**5x1+4x2−2x3=1**\n",
        "\n",
        "**위의 선형 연립방정식의 해  x1,x2,x3 를 구해보자.**"
      ]
    },
    {
      "cell_type": "code",
      "metadata": {
        "id": "f7PyjVBQ-Lwo"
      },
      "source": [
        "arrayA = np.array([[3,2,1], [1,-1,3], [5,4,-2]]) #3x3 Matrix\n",
        "arrayB = np.array([[7], [3], [1]]) #3x1 Matrix"
      ],
      "execution_count": 176,
      "outputs": []
    },
    {
      "cell_type": "code",
      "metadata": {
        "id": "IsbxC4iB_G6V"
      },
      "source": [
        "invMat = np.linalg.inv(arrayA)"
      ],
      "execution_count": 177,
      "outputs": []
    },
    {
      "cell_type": "code",
      "metadata": {
        "id": "jbNkdV5L_PvE"
      },
      "source": [
        "xMatrix = np.matmul(invMat, arrayB)"
      ],
      "execution_count": 178,
      "outputs": []
    },
    {
      "cell_type": "code",
      "metadata": {
        "colab": {
          "base_uri": "https://localhost:8080/"
        },
        "id": "3WDrwnrT_UVg",
        "outputId": "181860d5-fba8-4c2d-8b68-ae6155e64849"
      },
      "source": [
        "print(xMatrix) #Answer Matrix"
      ],
      "execution_count": 179,
      "outputs": [
        {
          "output_type": "stream",
          "text": [
            "[[-3.]\n",
            " [ 6.]\n",
            " [ 4.]]\n"
          ],
          "name": "stdout"
        }
      ]
    },
    {
      "cell_type": "code",
      "metadata": {
        "colab": {
          "base_uri": "https://localhost:8080/"
        },
        "id": "pZz4ggno_a6a",
        "outputId": "a170eff9-7613-4c4a-f0a9-10713a3bb2e1"
      },
      "source": [
        "#Revision -> AX = B\n",
        "print(np.matmul(arrayA, xMatrix))"
      ],
      "execution_count": 180,
      "outputs": [
        {
          "output_type": "stream",
          "text": [
            "[[7.]\n",
            " [3.]\n",
            " [1.]]\n"
          ],
          "name": "stdout"
        }
      ]
    }
  ]
}