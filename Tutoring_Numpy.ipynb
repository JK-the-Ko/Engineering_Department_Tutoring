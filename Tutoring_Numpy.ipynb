{
  "nbformat": 4,
  "nbformat_minor": 0,
  "metadata": {
    "colab": {
      "name": "Tutoring_Numpy.ipynb",
      "provenance": [],
      "collapsed_sections": [],
      "authorship_tag": "ABX9TyMZxiQk7HLlHM1KMIDZFL0U",
      "include_colab_link": true
    },
    "kernelspec": {
      "name": "python3",
      "display_name": "Python 3"
    }
  },
  "cells": [
    {
      "cell_type": "markdown",
      "metadata": {
        "id": "view-in-github",
        "colab_type": "text"
      },
      "source": [
        "<a href=\"https://colab.research.google.com/github/JaeKyunKo/Engineering_Department_Tutoring/blob/main/Tutoring_Numpy.ipynb\" target=\"_parent\"><img src=\"https://colab.research.google.com/assets/colab-badge.svg\" alt=\"Open In Colab\"/></a>"
      ]
    },
    {
      "cell_type": "markdown",
      "metadata": {
        "id": "nmZb0sKdq7zY"
      },
      "source": [
        "**Numpy (Python Library)**"
      ]
    },
    {
      "cell_type": "markdown",
      "metadata": {
        "id": "EHzHvu9crC21"
      },
      "source": [
        "List (Python Data Structure)"
      ]
    },
    {
      "cell_type": "code",
      "metadata": {
        "id": "wL6ZgvyGqWZV"
      },
      "source": [
        "#List Declaration\n",
        "lstOne, lstTwo = list(), list()"
      ],
      "execution_count": 1,
      "outputs": []
    },
    {
      "cell_type": "code",
      "metadata": {
        "id": "23OrL-0jqfsU"
      },
      "source": [
        "for i in range(5) :\n",
        "  lstOne.append(i)\n",
        "  lstTwo.append(i+1)"
      ],
      "execution_count": 2,
      "outputs": []
    },
    {
      "cell_type": "code",
      "metadata": {
        "colab": {
          "base_uri": "https://localhost:8080/"
        },
        "id": "H4Clhuxgqjnw",
        "outputId": "be789a77-5e60-42d2-fe1a-7e78be8da51b"
      },
      "source": [
        "print(lstOne, lstTwo)"
      ],
      "execution_count": 4,
      "outputs": [
        {
          "output_type": "stream",
          "text": [
            "[0, 1, 2, 3, 4] [1, 2, 3, 4, 5]\n"
          ],
          "name": "stdout"
        }
      ]
    },
    {
      "cell_type": "code",
      "metadata": {
        "id": "QDKfSeKeqmM8"
      },
      "source": [
        "lstNew = lstOne + lstTwo"
      ],
      "execution_count": 6,
      "outputs": []
    },
    {
      "cell_type": "code",
      "metadata": {
        "colab": {
          "base_uri": "https://localhost:8080/"
        },
        "id": "PH-IwpH3qqg9",
        "outputId": "d4e3d0dd-30a8-40bd-f774-a4fc6ccdab47"
      },
      "source": [
        "len(lstNew)"
      ],
      "execution_count": 7,
      "outputs": [
        {
          "output_type": "execute_result",
          "data": {
            "text/plain": [
              "10"
            ]
          },
          "metadata": {
            "tags": []
          },
          "execution_count": 7
        }
      ]
    },
    {
      "cell_type": "markdown",
      "metadata": {
        "id": "xmUY9clhrE_H"
      },
      "source": [
        "**Import Numpy Libraray**"
      ]
    },
    {
      "cell_type": "code",
      "metadata": {
        "id": "yJp7As2tq41W"
      },
      "source": [
        "import numpy as np"
      ],
      "execution_count": 8,
      "outputs": []
    },
    {
      "cell_type": "markdown",
      "metadata": {
        "id": "EWL2i8EQrhq2"
      },
      "source": [
        "**Numpy Array Declaration**\n",
        "\n",
        "np.array(list_name, data_type)\n",
        "\n",
        "data_type -> int / float / str / ..."
      ]
    },
    {
      "cell_type": "code",
      "metadata": {
        "id": "3Q01BOUJsbDy"
      },
      "source": [
        "arrayExample = np.array([1,2])"
      ],
      "execution_count": 20,
      "outputs": []
    },
    {
      "cell_type": "code",
      "metadata": {
        "id": "gKweYv9PrJ7F"
      },
      "source": [
        "arrayOne = np.array(lstOne, float)\n",
        "arrayTwo = np.array(lstTwo, int)"
      ],
      "execution_count": 40,
      "outputs": []
    },
    {
      "cell_type": "code",
      "metadata": {
        "colab": {
          "base_uri": "https://localhost:8080/"
        },
        "id": "BEQmSPqUugdH",
        "outputId": "f1f0ba3c-f14b-4b34-af87-5308d1e24ddd"
      },
      "source": [
        "for i in range(5) :\n",
        "  print(type(arrayOne[i]))"
      ],
      "execution_count": 41,
      "outputs": [
        {
          "output_type": "stream",
          "text": [
            "<class 'numpy.float64'>\n",
            "<class 'numpy.float64'>\n",
            "<class 'numpy.float64'>\n",
            "<class 'numpy.float64'>\n",
            "<class 'numpy.float64'>\n"
          ],
          "name": "stdout"
        }
      ]
    },
    {
      "cell_type": "code",
      "metadata": {
        "colab": {
          "base_uri": "https://localhost:8080/"
        },
        "id": "eGfR5fDyrMEZ",
        "outputId": "e6a184db-e788-40cd-bc6c-80f3065f0c1d"
      },
      "source": [
        "print(arrayOne, arrayTwo)\n",
        "print(type(lstOne), type(lstTwo))\n",
        "print(type(arrayOne), type(arrayTwo))"
      ],
      "execution_count": 42,
      "outputs": [
        {
          "output_type": "stream",
          "text": [
            "[0. 1. 2. 3. 4.] [1 2 3 4 5]\n",
            "<class 'list'> <class 'list'>\n",
            "<class 'numpy.ndarray'> <class 'numpy.ndarray'>\n"
          ],
          "name": "stdout"
        }
      ]
    },
    {
      "cell_type": "markdown",
      "metadata": {
        "id": "Yz3T8eOHr6aC"
      },
      "source": [
        "Index Addition Implementation"
      ]
    },
    {
      "cell_type": "code",
      "metadata": {
        "id": "Yvq2svUErWie"
      },
      "source": [
        "arrayNew = arrayOne + arrayTwo"
      ],
      "execution_count": 43,
      "outputs": []
    },
    {
      "cell_type": "code",
      "metadata": {
        "colab": {
          "base_uri": "https://localhost:8080/"
        },
        "id": "k76yNhk8rvSb",
        "outputId": "2bd38784-a2f1-4b8b-a7ca-2dc9332bff9a"
      },
      "source": [
        "print(arrayNew)"
      ],
      "execution_count": 44,
      "outputs": [
        {
          "output_type": "stream",
          "text": [
            "[1. 3. 5. 7. 9.]\n"
          ],
          "name": "stdout"
        }
      ]
    },
    {
      "cell_type": "markdown",
      "metadata": {
        "id": "46djzRy3r3GU"
      },
      "source": [
        "Same Implementation with Python list"
      ]
    },
    {
      "cell_type": "code",
      "metadata": {
        "id": "gyRD6FXAr2zG"
      },
      "source": [
        "for i in range(5) :\n",
        "  arrayNew[i] = arrayOne[i] + arrayTwo[i]"
      ],
      "execution_count": 18,
      "outputs": []
    },
    {
      "cell_type": "code",
      "metadata": {
        "colab": {
          "base_uri": "https://localhost:8080/"
        },
        "id": "LqT--hurrxUQ",
        "outputId": "2451fb33-28cd-44cb-ff44-d59f889c3566"
      },
      "source": [
        "print(arrayNew)"
      ],
      "execution_count": 19,
      "outputs": [
        {
          "output_type": "stream",
          "text": [
            "[1 3 5 7 9]\n"
          ],
          "name": "stdout"
        }
      ]
    },
    {
      "cell_type": "markdown",
      "metadata": {
        "id": "RB_JlKVytBgr"
      },
      "source": [
        "**2D or N-Dimensional Array Declaration**"
      ]
    },
    {
      "cell_type": "code",
      "metadata": {
        "id": "SQryPwhZso0g"
      },
      "source": [
        "array2D = np.array([[1,2,3], [4,5,6]])"
      ],
      "execution_count": 23,
      "outputs": []
    },
    {
      "cell_type": "code",
      "metadata": {
        "colab": {
          "base_uri": "https://localhost:8080/"
        },
        "id": "rsG1Dg_0s-iN",
        "outputId": "6e245c87-3b3f-4c6d-f45f-b1a822b5f789"
      },
      "source": [
        "print(array2D)"
      ],
      "execution_count": 24,
      "outputs": [
        {
          "output_type": "stream",
          "text": [
            "[[1 2 3]\n",
            " [4 5 6]]\n"
          ],
          "name": "stdout"
        }
      ]
    },
    {
      "cell_type": "markdown",
      "metadata": {
        "id": "8BHkVDIDtXmh"
      },
      "source": [
        "**Finding Array Size(Shape)**"
      ]
    },
    {
      "cell_type": "code",
      "metadata": {
        "id": "oUg7LyA0tAR4"
      },
      "source": [
        "n, m = np.shape(array2D)"
      ],
      "execution_count": 45,
      "outputs": []
    },
    {
      "cell_type": "code",
      "metadata": {
        "colab": {
          "base_uri": "https://localhost:8080/"
        },
        "id": "Vl3Rc3NytlqR",
        "outputId": "61fb3193-b492-4727-82ff-ec9503c88802"
      },
      "source": [
        "print(n, m)"
      ],
      "execution_count": 48,
      "outputs": [
        {
          "output_type": "stream",
          "text": [
            "2 3\n"
          ],
          "name": "stdout"
        }
      ]
    },
    {
      "cell_type": "markdown",
      "metadata": {
        "id": "NxAj1EnevT4s"
      },
      "source": [
        "**Initializing Array Size**\n",
        "\n",
        "Python -> Declaration + Initialization \n",
        "\n",
        "Therefore, cannot set the size of array before Initialization"
      ]
    },
    {
      "cell_type": "code",
      "metadata": {
        "id": "RBC6dzqXvMTl"
      },
      "source": [
        "n, m = 3, 3\n",
        "arrayInit = np.zeros((n,m))"
      ],
      "execution_count": 50,
      "outputs": []
    },
    {
      "cell_type": "code",
      "metadata": {
        "colab": {
          "base_uri": "https://localhost:8080/"
        },
        "id": "PJ5LwMw8vqkk",
        "outputId": "a9de6e18-f3c2-48f9-8c7b-546893e6586e"
      },
      "source": [
        "print(arrayInit)"
      ],
      "execution_count": 51,
      "outputs": [
        {
          "output_type": "stream",
          "text": [
            "[[0. 0. 0.]\n",
            " [0. 0. 0.]\n",
            " [0. 0. 0.]]\n"
          ],
          "name": "stdout"
        }
      ]
    },
    {
      "cell_type": "code",
      "metadata": {
        "colab": {
          "base_uri": "https://localhost:8080/"
        },
        "id": "jTjm13iWv3Q7",
        "outputId": "6fefeb2f-d9e0-4872-d1f5-ad331687b1ba"
      },
      "source": [
        "arrayInit = np.ones((n,m))\n",
        "print(arrayInit)"
      ],
      "execution_count": 53,
      "outputs": [
        {
          "output_type": "stream",
          "text": [
            "[[1. 1. 1.]\n",
            " [1. 1. 1.]\n",
            " [1. 1. 1.]]\n"
          ],
          "name": "stdout"
        }
      ]
    },
    {
      "cell_type": "code",
      "metadata": {
        "colab": {
          "base_uri": "https://localhost:8080/"
        },
        "id": "hmDaqBeSv7uy",
        "outputId": "023d8619-02d6-450c-8780-0ec1d5e6bd1b"
      },
      "source": [
        "numFull = 255\n",
        "arrayInit = np.full((n,m), numFull)\n",
        "print(arrayInit)"
      ],
      "execution_count": 54,
      "outputs": [
        {
          "output_type": "stream",
          "text": [
            "[[255 255 255]\n",
            " [255 255 255]\n",
            " [255 255 255]]\n"
          ],
          "name": "stdout"
        }
      ]
    },
    {
      "cell_type": "code",
      "metadata": {
        "colab": {
          "base_uri": "https://localhost:8080/"
        },
        "id": "gluCb8T4wEfo",
        "outputId": "67d67869-b80d-4430-b268-6e547ff8cda2"
      },
      "source": [
        "unitMatrix = np.eye(3)\n",
        "print(unitMatrix)"
      ],
      "execution_count": 55,
      "outputs": [
        {
          "output_type": "stream",
          "text": [
            "[[1. 0. 0.]\n",
            " [0. 1. 0.]\n",
            " [0. 0. 1.]]\n"
          ],
          "name": "stdout"
        }
      ]
    },
    {
      "cell_type": "code",
      "metadata": {
        "colab": {
          "base_uri": "https://localhost:8080/"
        },
        "id": "2pVF5XoPx5fc",
        "outputId": "80a9ed6a-9de1-482e-b01b-9d7af99d5cfe"
      },
      "source": [
        "startPoint = 0\n",
        "endPoint = 10\n",
        "stepSize = 1\n",
        "np.arange(startPoint ,endPoint ,stepSize)"
      ],
      "execution_count": 72,
      "outputs": [
        {
          "output_type": "execute_result",
          "data": {
            "text/plain": [
              "array([0, 1, 2, 3, 4, 5, 6, 7, 8, 9])"
            ]
          },
          "metadata": {
            "tags": []
          },
          "execution_count": 72
        }
      ]
    },
    {
      "cell_type": "code",
      "metadata": {
        "colab": {
          "base_uri": "https://localhost:8080/"
        },
        "id": "NegVQHi0y7QB",
        "outputId": "89087de1-b945-4196-8457-3a5f3de2a358"
      },
      "source": [
        "divisionSize = 10\n",
        "np.linspace(startPoint, endPoint, divisionSize)"
      ],
      "execution_count": 73,
      "outputs": [
        {
          "output_type": "execute_result",
          "data": {
            "text/plain": [
              "array([ 0.        ,  1.11111111,  2.22222222,  3.33333333,  4.44444444,\n",
              "        5.55555556,  6.66666667,  7.77777778,  8.88888889, 10.        ])"
            ]
          },
          "metadata": {
            "tags": []
          },
          "execution_count": 73
        }
      ]
    },
    {
      "cell_type": "code",
      "metadata": {
        "colab": {
          "base_uri": "https://localhost:8080/"
        },
        "id": "Bnd8PAuNzOHW",
        "outputId": "71b2cad6-bd98-4621-a27c-b6b2494caee8"
      },
      "source": [
        "np.random.random((2,2))"
      ],
      "execution_count": 75,
      "outputs": [
        {
          "output_type": "execute_result",
          "data": {
            "text/plain": [
              "array([[0.90007617, 0.36435282],\n",
              "       [0.48766634, 0.93217602]])"
            ]
          },
          "metadata": {
            "tags": []
          },
          "execution_count": 75
        }
      ]
    },
    {
      "cell_type": "code",
      "metadata": {
        "id": "hEGdEcly0Tm-"
      },
      "source": [
        "arrayEmpty = np.empty((3,3))"
      ],
      "execution_count": 76,
      "outputs": []
    },
    {
      "cell_type": "code",
      "metadata": {
        "colab": {
          "base_uri": "https://localhost:8080/"
        },
        "id": "ZbMLucyR0lkz",
        "outputId": "45be6b58-93e0-40dc-829b-84a86ce02274"
      },
      "source": [
        "print(arrayEmpty)"
      ],
      "execution_count": 79,
      "outputs": [
        {
          "output_type": "stream",
          "text": [
            "[[ 1.11111111  2.22222222  3.33333333]\n",
            " [ 4.44444444  5.55555556  6.66666667]\n",
            " [ 7.77777778  8.88888889 10.        ]]\n"
          ],
          "name": "stdout"
        }
      ]
    },
    {
      "cell_type": "markdown",
      "metadata": {
        "id": "YklNWrwm043H"
      },
      "source": [
        "**Data Types in Numpy**"
      ]
    },
    {
      "cell_type": "code",
      "metadata": {
        "colab": {
          "base_uri": "https://localhost:8080/"
        },
        "id": "v7VGRW9r0nk0",
        "outputId": "f6d65492-261a-488e-cb74-ab7e656a8882"
      },
      "source": [
        "np.int"
      ],
      "execution_count": 80,
      "outputs": [
        {
          "output_type": "execute_result",
          "data": {
            "text/plain": [
              "int"
            ]
          },
          "metadata": {
            "tags": []
          },
          "execution_count": 80
        }
      ]
    },
    {
      "cell_type": "code",
      "metadata": {
        "colab": {
          "base_uri": "https://localhost:8080/"
        },
        "id": "pnyuRZ_70_if",
        "outputId": "e7c59c73-5e12-4122-8c41-ab059d0d2872"
      },
      "source": [
        "np.float"
      ],
      "execution_count": 81,
      "outputs": [
        {
          "output_type": "execute_result",
          "data": {
            "text/plain": [
              "float"
            ]
          },
          "metadata": {
            "tags": []
          },
          "execution_count": 81
        }
      ]
    },
    {
      "cell_type": "code",
      "metadata": {
        "colab": {
          "base_uri": "https://localhost:8080/"
        },
        "id": "Ng5C5eN41AfG",
        "outputId": "43ae8956-f14c-4255-9fa7-2a46f392a65a"
      },
      "source": [
        "np.complex"
      ],
      "execution_count": 82,
      "outputs": [
        {
          "output_type": "execute_result",
          "data": {
            "text/plain": [
              "complex"
            ]
          },
          "metadata": {
            "tags": []
          },
          "execution_count": 82
        }
      ]
    },
    {
      "cell_type": "code",
      "metadata": {
        "colab": {
          "base_uri": "https://localhost:8080/"
        },
        "id": "gL87DLAA1Bne",
        "outputId": "3582dc8a-5e56-47e2-dc7d-e90952efee17"
      },
      "source": [
        "np.bool"
      ],
      "execution_count": 83,
      "outputs": [
        {
          "output_type": "execute_result",
          "data": {
            "text/plain": [
              "bool"
            ]
          },
          "metadata": {
            "tags": []
          },
          "execution_count": 83
        }
      ]
    },
    {
      "cell_type": "code",
      "metadata": {
        "colab": {
          "base_uri": "https://localhost:8080/"
        },
        "id": "BluH_aGY1FVm",
        "outputId": "36a75e70-fecb-4dd2-8c3d-f450c1b4e3a8"
      },
      "source": [
        "np.string_"
      ],
      "execution_count": 84,
      "outputs": [
        {
          "output_type": "execute_result",
          "data": {
            "text/plain": [
              "numpy.bytes_"
            ]
          },
          "metadata": {
            "tags": []
          },
          "execution_count": 84
        }
      ]
    },
    {
      "cell_type": "markdown",
      "metadata": {
        "id": "L128qJU01Q0g"
      },
      "source": [
        "**Numpy Array Indexing and Slicing**"
      ]
    },
    {
      "cell_type": "code",
      "metadata": {
        "id": "TZmDBsbD1Him"
      },
      "source": [
        ""
      ],
      "execution_count": null,
      "outputs": []
    }
  ]
}