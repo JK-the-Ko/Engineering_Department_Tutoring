{
  "nbformat": 4,
  "nbformat_minor": 0,
  "metadata": {
    "colab": {
      "name": "Tutoring_1.ipynb",
      "provenance": [],
      "collapsed_sections": [],
      "authorship_tag": "ABX9TyPhkQjou5gJdFM7WpWe6E4C",
      "include_colab_link": true
    },
    "kernelspec": {
      "name": "python3",
      "display_name": "Python 3"
    }
  },
  "cells": [
    {
      "cell_type": "markdown",
      "metadata": {
        "id": "view-in-github",
        "colab_type": "text"
      },
      "source": [
        "<a href=\"https://colab.research.google.com/github/JaeKyunKo/Engineering_Department_Tutoring/blob/main/Tutoring_1.ipynb\" target=\"_parent\"><img src=\"https://colab.research.google.com/assets/colab-badge.svg\" alt=\"Open In Colab\"/></a>"
      ]
    },
    {
      "cell_type": "code",
      "metadata": {
        "id": "KLyQwQdLzNEQ"
      },
      "source": [
        "\"\"\" \n",
        "interger \n",
        "선언할 때는 \n",
        "variableName = 숫자\n",
        "\"\"\"\n",
        "a = 3\n",
        "c = 2"
      ],
      "execution_count": null,
      "outputs": []
    },
    {
      "cell_type": "code",
      "metadata": {
        "id": "JEd7PWrV0-c8"
      },
      "source": [
        "\"\"\"\n",
        "String(Charater)\n",
        "선언할 때는 \n",
        "variableName = \"문자열\"\n",
        "\"\"\"\n",
        "b = \"Hello World\"\n",
        "d = \"Good Bye\""
      ],
      "execution_count": null,
      "outputs": []
    },
    {
      "cell_type": "code",
      "metadata": {
        "id": "bLvuyxPM1Dxo"
      },
      "source": [
        "print(a)\n",
        "print(b)"
      ],
      "execution_count": null,
      "outputs": []
    },
    {
      "cell_type": "code",
      "metadata": {
        "id": "NJ7OV56l2cfD"
      },
      "source": [
        "\"\"\"\n",
        "Operation(연산)\n",
        "사칙연산 : +, -, *, /\n",
        "변수가 int or float \n",
        "변수가 string\n",
        "var1 Operation var2\n",
        "\"\"\"\n",
        "add = a + c\n",
        "print(add)"
      ],
      "execution_count": null,
      "outputs": []
    },
    {
      "cell_type": "code",
      "metadata": {
        "id": "D_CjLGfA20KF"
      },
      "source": [
        "print(b + \" \" + d)"
      ],
      "execution_count": null,
      "outputs": []
    },
    {
      "cell_type": "code",
      "metadata": {
        "id": "z3xhMCTy28RE"
      },
      "source": [
        "\"\"\"\n",
        "Complex Operation\n",
        "+=, -=. *=, /=\n",
        "exmaple) a = a + 2 -> a += 2\n",
        "\"\"\"\n",
        "a += 2\n",
        "print(a) "
      ],
      "execution_count": null,
      "outputs": []
    },
    {
      "cell_type": "code",
      "metadata": {
        "id": "nI_89fLo3QRQ"
      },
      "source": [
        "\"\"\"\n",
        "Python -> 나누기를 하면 Data Type Float로 바뀜\n",
        "Data Type Conversion\n",
        "int(variableName) -> Interger로 바뀜\n",
        "float(variableName) -> Float로 바뀜\n",
        "str(variableName) -> String로 바뀜\n",
        "\"\"\"\n",
        "k = 3\n",
        "p = 6\n",
        "print(p/k)\n",
        "print(type(int(p/k)))"
      ],
      "execution_count": null,
      "outputs": []
    },
    {
      "cell_type": "code",
      "metadata": {
        "id": "mPm3P2BM4HoW"
      },
      "source": [
        "\"\"\"\n",
        "Operation Priority\n",
        "** > *, / > +, -\n",
        "% -> 나머지 (Remainder)\n",
        "// -> 몫\n",
        "\"\"\"\n",
        "print(3%2)\n",
        "print(4//2)"
      ],
      "execution_count": null,
      "outputs": []
    },
    {
      "cell_type": "code",
      "metadata": {
        "id": "Je7YcfYy4we6"
      },
      "source": [
        "\"\"\"\n",
        "출력 시 소수점 몇 자리까지 출력하고 싶다\n",
        "print(\"%.5f\" %variableName)\n",
        "\"\"\"\n",
        "t = 1/3\n",
        "print(\"%.5f\" %t)"
      ],
      "execution_count": null,
      "outputs": []
    },
    {
      "cell_type": "code",
      "metadata": {
        "id": "Tr3AERCs6DX2"
      },
      "source": [
        "#안녕하세요\n",
        "#이 코드에 어느 부분을 수정하세요"
      ],
      "execution_count": null,
      "outputs": []
    },
    {
      "cell_type": "code",
      "metadata": {
        "id": "wTSfSPK96b4c"
      },
      "source": [
        "\"\"\"\n",
        "데이터를 입력하는 방법\n",
        "\"\"\"\n",
        "variableName = int(input()) #Data Type : String\n",
        "print(variableName**2)"
      ],
      "execution_count": null,
      "outputs": []
    }
  ]
}