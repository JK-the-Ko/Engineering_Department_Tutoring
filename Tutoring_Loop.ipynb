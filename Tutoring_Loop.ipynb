{
  "nbformat": 4,
  "nbformat_minor": 0,
  "metadata": {
    "colab": {
      "name": "Tutoring_3.ipynb",
      "provenance": [],
      "collapsed_sections": [],
      "authorship_tag": "ABX9TyMJ0d0l0Kglv9iNrE6mmIO/",
      "include_colab_link": true
    },
    "kernelspec": {
      "name": "python3",
      "display_name": "Python 3"
    }
  },
  "cells": [
    {
      "cell_type": "markdown",
      "metadata": {
        "id": "view-in-github",
        "colab_type": "text"
      },
      "source": [
        "<a href=\"https://colab.research.google.com/github/JaeKyunKo/Engineering_Department_Tutoring/blob/main/Tutoring_3.ipynb\" target=\"_parent\"><img src=\"https://colab.research.google.com/assets/colab-badge.svg\" alt=\"Open In Colab\"/></a>"
      ]
    },
    {
      "cell_type": "markdown",
      "metadata": {
        "id": "ndN7oscuq0Bi"
      },
      "source": [
        "반복문\n",
        "\n",
        "\n",
        "*   for loop (횟수를 정해주는 반복문)\n",
        "*   while loop (조건이 만족되면 반복문 실행)\n",
        "\n"
      ]
    },
    {
      "cell_type": "code",
      "metadata": {
        "id": "OlZY9GdrqZjX"
      },
      "source": [
        "#for loop를 사용하여 10번 반복하는 반복문 생성\n",
        "#for 변수 in range(반복하고 싶은 횟수)\n",
        "#Computer Language -> Start Index = 0\n",
        "for i in range(10) :\n",
        "  print(\"*\")  "
      ],
      "execution_count": null,
      "outputs": []
    },
    {
      "cell_type": "code",
      "metadata": {
        "id": "BII-1zp6riOO"
      },
      "source": [
        "#Nested for loop -> for loop 안에 for loop\n",
        "for i in range(10) :\n",
        "  for j in range(2) :\n",
        "    print(i, j)"
      ],
      "execution_count": null,
      "outputs": []
    },
    {
      "cell_type": "code",
      "metadata": {
        "id": "Sd8PB-7Gr_rW"
      },
      "source": [
        "#if condition == True, while loop가 실행\n",
        "#while condition\n",
        "score = int(input())\n",
        "while score > 10 :\n",
        "  print(score)\n",
        "  score = int(input())"
      ],
      "execution_count": null,
      "outputs": []
    },
    {
      "cell_type": "code",
      "metadata": {
        "id": "5SftUc1HsoJF"
      },
      "source": [
        "#break -> loop를 끝낸다\n",
        "i = 0\n",
        "while True :\n",
        "  print(i)\n",
        "  i += 1\n",
        "  if i == 10 :\n",
        "    break"
      ],
      "execution_count": null,
      "outputs": []
    },
    {
      "cell_type": "markdown",
      "metadata": {
        "id": "jw7cZQWUusbW"
      },
      "source": [
        "\n",
        "\n",
        "*   While Loop를 통해 For Loop를 구현할 수 있지만 비효율적\n",
        "*   While Loop takes longer time to calculate a limited number of operations!\n",
        "\n"
      ]
    },
    {
      "cell_type": "code",
      "metadata": {
        "id": "C2uQ8MFls8dT"
      },
      "source": [
        "#Loop example -> Factorial (!)\n",
        "#for loop\n",
        "num = int(input())\n",
        "returnNum = 1\n",
        "for i in range(num) : #i = 0,1,2\n",
        "  returnNum *= (i+1) #i+1 = 1,2,3\n",
        "print(returnNum)"
      ],
      "execution_count": null,
      "outputs": []
    },
    {
      "cell_type": "code",
      "metadata": {
        "id": "wPrtDOeatnLc"
      },
      "source": [
        "#Loop example -> Factorial (!)\n",
        "#while loop\n",
        "num = int(input())\n",
        "i = 0\n",
        "returnNum = 1\n",
        "while i < num :\n",
        "  i += 1\n",
        "  returnNum *= i\n",
        "print(returnNum)"
      ],
      "execution_count": null,
      "outputs": []
    },
    {
      "cell_type": "markdown",
      "metadata": {
        "id": "Yh4g-bPdvK3Z"
      },
      "source": [
        "*   For loop -> 일정 횟수만 반복을 하는 경우\n",
        "*   While loop -> 일정 조건을 만족하는 경우"
      ]
    }
  ]
}
