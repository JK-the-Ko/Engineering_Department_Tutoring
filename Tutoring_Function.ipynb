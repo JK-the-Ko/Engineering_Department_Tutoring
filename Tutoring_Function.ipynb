{
  "nbformat": 4,
  "nbformat_minor": 0,
  "metadata": {
    "colab": {
      "name": "Tutoring_Function.ipynb",
      "provenance": [],
      "collapsed_sections": [],
      "authorship_tag": "ABX9TyMLXZwC+FT3rlz7tCZ4BJxN",
      "include_colab_link": true
    },
    "kernelspec": {
      "name": "python3",
      "display_name": "Python 3"
    }
  },
  "cells": [
    {
      "cell_type": "markdown",
      "metadata": {
        "id": "view-in-github",
        "colab_type": "text"
      },
      "source": [
        "<a href=\"https://colab.research.google.com/github/JaeKyunKo/Engineering_Department_Tutoring/blob/main/Tutoring_Function.ipynb\" target=\"_parent\"><img src=\"https://colab.research.google.com/assets/colab-badge.svg\" alt=\"Open In Colab\"/></a>"
      ]
    },
    {
      "cell_type": "markdown",
      "metadata": {
        "id": "b99Mxuje4VRN"
      },
      "source": [
        "Function in Computation Language -> Same as in Math"
      ]
    },
    {
      "cell_type": "markdown",
      "metadata": {
        "id": "oxjqEuOw4Z5U"
      },
      "source": [
        "A -> F(x) -> F(A) (Input -> Function -> Output)"
      ]
    },
    {
      "cell_type": "code",
      "metadata": {
        "id": "yj__varX4On3"
      },
      "source": [
        "def functionAdd(numOne, numTwo) : #def function_name(variables)\n",
        "  return numOne + numTwo"
      ],
      "execution_count": 1,
      "outputs": []
    },
    {
      "cell_type": "code",
      "metadata": {
        "id": "_HxzJmAy4zVW"
      },
      "source": [
        "print(functionAdd(10, 11))"
      ],
      "execution_count": null,
      "outputs": []
    },
    {
      "cell_type": "code",
      "metadata": {
        "id": "75tNRnSh40-f"
      },
      "source": [
        "def printOddOrEven(inputNum) :\n",
        "  if inputNum % 2 == 0 :\n",
        "    print(\"Even Number\")\n",
        "  else :\n",
        "    print(\"Odd Number\")"
      ],
      "execution_count": 7,
      "outputs": []
    },
    {
      "cell_type": "code",
      "metadata": {
        "id": "E33ZNqT-5TFv",
        "outputId": "7afe56aa-d35d-432d-822a-7714b52cd5a4",
        "colab": {
          "base_uri": "https://localhost:8080/"
        }
      },
      "source": [
        "printOddOrEven(10)"
      ],
      "execution_count": 8,
      "outputs": [
        {
          "output_type": "stream",
          "text": [
            "Even Number\n"
          ],
          "name": "stdout"
        }
      ]
    },
    {
      "cell_type": "code",
      "metadata": {
        "id": "8YR1Yk7m5VHt",
        "outputId": "0471d81f-ea1e-4b7a-b3de-d6920faf4a32",
        "colab": {
          "base_uri": "https://localhost:8080/"
        }
      },
      "source": [
        "printOddOrEven(11)"
      ],
      "execution_count": 9,
      "outputs": [
        {
          "output_type": "stream",
          "text": [
            "Odd Number\n"
          ],
          "name": "stdout"
        }
      ]
    },
    {
      "cell_type": "markdown",
      "metadata": {
        "id": "ZyWp78hL5h1P"
      },
      "source": [
        "Local Variable / Global Variable"
      ]
    },
    {
      "cell_type": "code",
      "metadata": {
        "id": "KXRqIrDT5beb"
      },
      "source": [
        "def printNumLocal() :\n",
        "  numLocal = 10\n",
        "  print(hex(id(numLocal)))"
      ],
      "execution_count": 24,
      "outputs": []
    },
    {
      "cell_type": "code",
      "metadata": {
        "id": "7aY_7ckL5snW"
      },
      "source": [
        "numLocal = 100\n",
        "printNumLocal()"
      ],
      "execution_count": null,
      "outputs": []
    },
    {
      "cell_type": "code",
      "metadata": {
        "id": "s1lG-hIu6l-E"
      },
      "source": [
        "hex(id(numLocal))"
      ],
      "execution_count": null,
      "outputs": []
    },
    {
      "cell_type": "markdown",
      "metadata": {
        "id": "iUhP4qBx66qR"
      },
      "source": [
        "Recursive Function(재귀 함수)"
      ]
    },
    {
      "cell_type": "markdown",
      "metadata": {
        "id": "Xbr0zIvH69AP"
      },
      "source": [
        "Function inside Function"
      ]
    },
    {
      "cell_type": "code",
      "metadata": {
        "id": "9LQ1Kjjt7Cw3"
      },
      "source": [
        "#Factorial with Recursive Function\n",
        "def factorialRecursive(inputNum) :\n",
        "  if inputNum < 1 :\n",
        "    return 1\n",
        "  else :\n",
        "    return inputNum * factorial(inputNum-1)"
      ],
      "execution_count": 33,
      "outputs": []
    },
    {
      "cell_type": "code",
      "metadata": {
        "id": "WX8RdTk47wTp"
      },
      "source": [
        "#Factorial with For Loop\n",
        "def factorialForLoop(inputNum) :\n",
        "  returnNum = 1\n",
        "  for i in range(1, inputNum + 1) :\n",
        "    returnNum *= i\n",
        "  return returnNum"
      ],
      "execution_count": 34,
      "outputs": []
    }
  ]
}