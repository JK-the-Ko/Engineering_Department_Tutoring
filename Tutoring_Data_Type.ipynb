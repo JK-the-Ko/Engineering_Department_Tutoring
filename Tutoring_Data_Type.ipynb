{
  "nbformat": 4,
  "nbformat_minor": 0,
  "metadata": {
    "colab": {
      "name": "Tutoring_Data_Type.ipynb",
      "provenance": [],
      "collapsed_sections": [],
      "authorship_tag": "ABX9TyNEVtbQ2XQfI1Bm1a3Ga/uP",
      "include_colab_link": true
    },
    "kernelspec": {
      "name": "python3",
      "display_name": "Python 3"
    }
  },
  "cells": [
    {
      "cell_type": "markdown",
      "metadata": {
        "id": "view-in-github",
        "colab_type": "text"
      },
      "source": [
        "<a href=\"https://colab.research.google.com/github/JaeKyunKo/Engineering_Department_Tutoring/blob/main/Tutoring_Data_Type.ipynb\" target=\"_parent\"><img src=\"https://colab.research.google.com/assets/colab-badge.svg\" alt=\"Open In Colab\"/></a>"
      ]
    },
    {
      "cell_type": "markdown",
      "metadata": {
        "id": "VrGF_MafH2xB"
      },
      "source": [
        "**Data Type in Python**\n",
        "\n",
        "본격적인 Python 수업에 들어가기 앞서 Python에서는 어떤 data type이 있는지 알아야한다"
      ]
    },
    {
      "cell_type": "markdown",
      "metadata": {
        "id": "ZFnenFRVIVE-"
      },
      "source": [
        "**Python에서는 크게 5가지의 data type이 있다고 생각하면 편하다**\n",
        "\n",
        "* integer (int) : 1, 2, 10, 100, -1, ... (양수, 음수)\n",
        "\n",
        "* string (str) : \"Hello World\", \"100\", .... (글자)\n",
        "\n",
        "* float (float) : 10.1, 3/5, ... (정수가 아닌 수) \n",
        "\n",
        "* list (list) : [], [1,2,3,4,5], [\"32\", 30], .... (데이터를 저장하는 형태)\n",
        "\n",
        "* boolean : True, False,..."
      ]
    },
    {
      "cell_type": "code",
      "metadata": {
        "id": "lE9voEQgHu-y"
      },
      "source": [
        "numInt = 10\n",
        "numFloat = 10.1\n",
        "wordNew = \"100\"\n",
        "lstNew = list()\n",
        "blnNew = True"
      ],
      "execution_count": 23,
      "outputs": []
    },
    {
      "cell_type": "markdown",
      "metadata": {
        "id": "9wvGCFHEIn5m"
      },
      "source": [
        "Python에서 data type을 확인하기 위해서는 type() 함수를 사용하면 된다"
      ]
    },
    {
      "cell_type": "code",
      "metadata": {
        "id": "9Oz6ox__IOa6",
        "outputId": "dd6347a0-dae8-4b4c-af85-5943a63fe169",
        "colab": {
          "base_uri": "https://localhost:8080/"
        }
      },
      "source": [
        "print(type(numInt))\n",
        "print(type(numFloat))\n",
        "print(type(wordNew))\n",
        "print(type(lstNew))\n",
        "print(type(blnNew))"
      ],
      "execution_count": 24,
      "outputs": [
        {
          "output_type": "stream",
          "text": [
            "<class 'int'>\n",
            "<class 'float'>\n",
            "<class 'str'>\n",
            "<class 'list'>\n",
            "<class 'bool'>\n"
          ],
          "name": "stdout"
        }
      ]
    },
    {
      "cell_type": "markdown",
      "metadata": {
        "id": "Dgg_iXy5I2-1"
      },
      "source": [
        "그러면 data type을 변환하고 싶은 상황에는 어떻게 해야할까?"
      ]
    },
    {
      "cell_type": "code",
      "metadata": {
        "id": "BRYFLPjsIT_3"
      },
      "source": [
        "#integer to float\n",
        "numInt = float(numInt)\n",
        "#float to string\n",
        "numFloat = str(numFloat)\n",
        "#string to integer\n",
        "wordNew = int(wordNew)"
      ],
      "execution_count": 25,
      "outputs": []
    },
    {
      "cell_type": "code",
      "metadata": {
        "id": "gwGG51gdJBuW",
        "outputId": "14c1e9fc-650b-4157-f67e-0d12f93ff176",
        "colab": {
          "base_uri": "https://localhost:8080/"
        }
      },
      "source": [
        "print(type(numInt), numInt)\n",
        "print(type(numFloat), numFloat)\n",
        "print(type(wordNew), wordNew)"
      ],
      "execution_count": 26,
      "outputs": [
        {
          "output_type": "stream",
          "text": [
            "<class 'float'> 10.0\n",
            "<class 'str'> 10.1\n",
            "<class 'int'> 100\n"
          ],
          "name": "stdout"
        }
      ]
    },
    {
      "cell_type": "markdown",
      "metadata": {
        "id": "NdzXjz4bJaby"
      },
      "source": [
        "Python에서는 data type을 선언하지 않기 때문에 조심해야 할 부분이 있다\n",
        "\n",
        "Python3에서는 정수를 정수로 나눌 시 이들의 data type이 float으로 자동으로 변환된다"
      ]
    },
    {
      "cell_type": "code",
      "metadata": {
        "id": "k5gQx-ZDJSPc",
        "outputId": "0c674b87-6768-4e09-ba1c-228760428cd9",
        "colab": {
          "base_uri": "https://localhost:8080/"
        }
      },
      "source": [
        "numOne = 10\n",
        "numTwo = 2\n",
        "numNew = numOne / numTwo\n",
        "print(type(numNew), numNew)"
      ],
      "execution_count": 27,
      "outputs": [
        {
          "output_type": "stream",
          "text": [
            "<class 'float'> 5.0\n"
          ],
          "name": "stdout"
        }
      ]
    },
    {
      "cell_type": "code",
      "metadata": {
        "id": "H0xDnmLRJspB",
        "outputId": "59d016ab-0bd1-4716-9bd4-11d8445d9b41",
        "colab": {
          "base_uri": "https://localhost:8080/",
          "height": 190
        }
      },
      "source": [
        "for i in range(numNew) :\n",
        "  print(i)"
      ],
      "execution_count": 28,
      "outputs": [
        {
          "output_type": "error",
          "ename": "TypeError",
          "evalue": "ignored",
          "traceback": [
            "\u001b[0;31m---------------------------------------------------------------------------\u001b[0m",
            "\u001b[0;31mTypeError\u001b[0m                                 Traceback (most recent call last)",
            "\u001b[0;32m<ipython-input-28-8e786d11b35c>\u001b[0m in \u001b[0;36m<module>\u001b[0;34m()\u001b[0m\n\u001b[0;32m----> 1\u001b[0;31m \u001b[0;32mfor\u001b[0m \u001b[0mi\u001b[0m \u001b[0;32min\u001b[0m \u001b[0mrange\u001b[0m\u001b[0;34m(\u001b[0m\u001b[0mnumNew\u001b[0m\u001b[0;34m)\u001b[0m \u001b[0;34m:\u001b[0m\u001b[0;34m\u001b[0m\u001b[0;34m\u001b[0m\u001b[0m\n\u001b[0m\u001b[1;32m      2\u001b[0m   \u001b[0mprint\u001b[0m\u001b[0;34m(\u001b[0m\u001b[0mi\u001b[0m\u001b[0;34m)\u001b[0m\u001b[0;34m\u001b[0m\u001b[0;34m\u001b[0m\u001b[0m\n",
            "\u001b[0;31mTypeError\u001b[0m: 'float' object cannot be interpreted as an integer"
          ]
        }
      ]
    },
    {
      "cell_type": "code",
      "metadata": {
        "id": "yy65zetXJ8zZ",
        "outputId": "7306a394-5778-4a47-93c2-6ae33b76433f",
        "colab": {
          "base_uri": "https://localhost:8080/"
        }
      },
      "source": [
        "for i in range(int(numNew)) :\n",
        "  print(i)"
      ],
      "execution_count": 29,
      "outputs": [
        {
          "output_type": "stream",
          "text": [
            "0\n",
            "1\n",
            "2\n",
            "3\n",
            "4\n"
          ],
          "name": "stdout"
        }
      ]
    }
  ]
}