{
  "nbformat": 4,
  "nbformat_minor": 0,
  "metadata": {
    "colab": {
      "name": "Tutoring_Keras_CIFAR10_Convolutional_Neural_Network.ipynb",
      "provenance": [],
      "collapsed_sections": [],
      "authorship_tag": "ABX9TyMs4RutoWOrefz0lF7TIEvf",
      "include_colab_link": true
    },
    "kernelspec": {
      "name": "python3",
      "display_name": "Python 3"
    },
    "accelerator": "GPU"
  },
  "cells": [
    {
      "cell_type": "markdown",
      "metadata": {
        "id": "view-in-github",
        "colab_type": "text"
      },
      "source": [
        "<a href=\"https://colab.research.google.com/github/JK-the-Ko/Engineering_Department_Tutoring/blob/main/Tutoring_Keras_CIFAR10_Convolutional_Neural_Network.ipynb\" target=\"_parent\"><img src=\"https://colab.research.google.com/assets/colab-badge.svg\" alt=\"Open In Colab\"/></a>"
      ]
    },
    {
      "cell_type": "markdown",
      "metadata": {
        "id": "yr6g-xK_Bfei"
      },
      "source": [
        "Import Numpy Library"
      ]
    },
    {
      "cell_type": "code",
      "metadata": {
        "id": "n1BRNGleBfK_"
      },
      "source": [
        "import numpy as np"
      ],
      "execution_count": 1,
      "outputs": []
    },
    {
      "cell_type": "markdown",
      "metadata": {
        "id": "G3qa_VoQArNP"
      },
      "source": [
        "Import Tensorflow Library"
      ]
    },
    {
      "cell_type": "code",
      "metadata": {
        "id": "rTJIV9EG3wwp"
      },
      "source": [
        "import tensorflow as tf\r\n",
        "from tensorflow.keras.datasets import cifar10"
      ],
      "execution_count": 2,
      "outputs": []
    },
    {
      "cell_type": "markdown",
      "metadata": {
        "id": "JY0_2HLtAufd"
      },
      "source": [
        "Import One-Hot Encoding Library"
      ]
    },
    {
      "cell_type": "code",
      "metadata": {
        "id": "8jEXW9iKAkJz"
      },
      "source": [
        "from tensorflow.keras.utils import to_categorical, plot_model"
      ],
      "execution_count": 3,
      "outputs": []
    },
    {
      "cell_type": "markdown",
      "metadata": {
        "id": "i7ydcvzdAy8J"
      },
      "source": [
        "**Load CIFAR100 Dataset**"
      ]
    },
    {
      "cell_type": "code",
      "metadata": {
        "id": "CcMb8LXKAnhz",
        "colab": {
          "base_uri": "https://localhost:8080/"
        },
        "outputId": "f8b99798-ce72-4215-d65f-9d15cb2a1a00"
      },
      "source": [
        "(train_images, train_labels), (test_images, test_labels) = cifar10.load_data()"
      ],
      "execution_count": 4,
      "outputs": [
        {
          "output_type": "stream",
          "text": [
            "Downloading data from https://www.cs.toronto.edu/~kriz/cifar-10-python.tar.gz\n",
            "170500096/170498071 [==============================] - 3s 0us/step\n"
          ],
          "name": "stdout"
        }
      ]
    },
    {
      "cell_type": "code",
      "metadata": {
        "id": "g-o9WR6pA1L0"
      },
      "source": [
        "num_train_images = len(train_images)\r\n",
        "num_test_images = len(test_images)"
      ],
      "execution_count": 5,
      "outputs": []
    },
    {
      "cell_type": "markdown",
      "metadata": {
        "id": "PhnDgXp3BFQy"
      },
      "source": [
        "Number of Train Images and Test Images"
      ]
    },
    {
      "cell_type": "code",
      "metadata": {
        "colab": {
          "base_uri": "https://localhost:8080/"
        },
        "id": "dkWeVchMA8qT",
        "outputId": "2fd5fdfb-851a-4641-fbbc-6644c5bce4a4"
      },
      "source": [
        "print(\"Number of Train Images : {}\".format(num_train_images))\r\n",
        "print(\"Number of Train Images : {}\".format(num_test_images))"
      ],
      "execution_count": 6,
      "outputs": [
        {
          "output_type": "stream",
          "text": [
            "Number of Train Images : 50000\n",
            "Number of Train Images : 10000\n"
          ],
          "name": "stdout"
        }
      ]
    },
    {
      "cell_type": "markdown",
      "metadata": {
        "id": "rrakyej1Gi7t"
      },
      "source": [
        "**Data Pre-Process**"
      ]
    },
    {
      "cell_type": "markdown",
      "metadata": {
        "id": "6mzNjFSWBXkS"
      },
      "source": [
        "Normalize Pixels in Images"
      ]
    },
    {
      "cell_type": "code",
      "metadata": {
        "id": "-p6bY758BTms"
      },
      "source": [
        "train_images = train_images.astype(\"float32\") / 255\r\n",
        "test_images = test_images.astype(\"float32\") / 255"
      ],
      "execution_count": 7,
      "outputs": []
    },
    {
      "cell_type": "markdown",
      "metadata": {
        "id": "vjOzqmptCA5w"
      },
      "source": [
        "One-Hot Encoding"
      ]
    },
    {
      "cell_type": "code",
      "metadata": {
        "colab": {
          "base_uri": "https://localhost:8080/"
        },
        "id": "m8cgBB9NBlgd",
        "outputId": "659b2bfd-8968-4512-d0ac-96d77a2635fa"
      },
      "source": [
        "print(train_labels[0]) #Class 6"
      ],
      "execution_count": 8,
      "outputs": [
        {
          "output_type": "stream",
          "text": [
            "[6]\n"
          ],
          "name": "stdout"
        }
      ]
    },
    {
      "cell_type": "code",
      "metadata": {
        "id": "cjOOtlwxBrvM"
      },
      "source": [
        "train_labels = to_categorical(train_labels)\r\n",
        "test_labels = to_categorical(test_labels)"
      ],
      "execution_count": 9,
      "outputs": []
    },
    {
      "cell_type": "code",
      "metadata": {
        "colab": {
          "base_uri": "https://localhost:8080/"
        },
        "id": "gcNFII2rFzXE",
        "outputId": "c3564a85-9566-4512-973e-19c1b9a244f7"
      },
      "source": [
        "print(train_labels[0]) #Class 6일 확률이 100%"
      ],
      "execution_count": 10,
      "outputs": [
        {
          "output_type": "stream",
          "text": [
            "[0. 0. 0. 0. 0. 0. 1. 0. 0. 0.]\n"
          ],
          "name": "stdout"
        }
      ]
    },
    {
      "cell_type": "markdown",
      "metadata": {
        "id": "ZQ9pKXL4GnCS"
      },
      "source": [
        "**Build Convolutional Neural Network**"
      ]
    },
    {
      "cell_type": "markdown",
      "metadata": {
        "id": "H4v6SWgCHa4j"
      },
      "source": [
        "Import Keras Library"
      ]
    },
    {
      "cell_type": "code",
      "metadata": {
        "id": "0ulT_C9fF02F"
      },
      "source": [
        "from tensorflow.keras import Input\r\n",
        "from tensorflow.keras.models import Model\r\n",
        "from tensorflow.keras.layers import Dense, Flatten, Dropout\r\n",
        "from tensorflow.keras.layers import Conv2D, MaxPooling2D, BatchNormalization, GlobalAveragePooling2D\r\n",
        "from tensorflow.keras.optimizers import SGD"
      ],
      "execution_count": 11,
      "outputs": []
    },
    {
      "cell_type": "markdown",
      "metadata": {
        "id": "YpaJr7sSHe5M"
      },
      "source": [
        "Declare Input Size"
      ]
    },
    {
      "cell_type": "code",
      "metadata": {
        "id": "6pQFaxO9G-FQ"
      },
      "source": [
        "input_size = Input(shape = (32, 32, 3))"
      ],
      "execution_count": 12,
      "outputs": []
    },
    {
      "cell_type": "markdown",
      "metadata": {
        "id": "ReynM-7UHgnv"
      },
      "source": [
        "Declare Neural Network Model as Sequential"
      ]
    },
    {
      "cell_type": "code",
      "metadata": {
        "id": "rGjWwBztIitW"
      },
      "source": [
        "model = Conv2D(32, kernel_size = (3,3), padding = \"same\", activation = \"relu\")(input_size)\r\n",
        "model = Conv2D(32, kernel_size = (3,3), padding = \"same\", activation = \"relu\")(model)\r\n",
        "model = Conv2D(32, kernel_size = (3,3), padding = \"same\", activation = \"relu\")(model)\r\n",
        "\r\n",
        "model = BatchNormalization()(model)\r\n",
        "model = MaxPooling2D()(model)\r\n",
        "\r\n",
        "model = Conv2D(64, kernel_size = (3,3), padding = \"same\", activation = \"relu\")(model)\r\n",
        "model = BatchNormalization()(model)\r\n",
        "model = Conv2D(64, kernel_size = (3,3), padding = \"same\", activation = \"relu\")(model)\r\n",
        "\r\n",
        "model = BatchNormalization()(model)\r\n",
        "model = MaxPooling2D()(model)\r\n",
        "\r\n",
        "model = Conv2D(128, kernel_size = (3,3), padding = \"same\", activation = \"relu\")(model)\r\n",
        "model = BatchNormalization()(model)\r\n",
        "model = Conv2D(128, kernel_size = (3,3), padding = \"same\", activation = \"relu\")(model)\r\n",
        "\r\n",
        "model = BatchNormalization()(model)\r\n",
        "model = MaxPooling2D()(model)\r\n",
        "\r\n",
        "model = Conv2D(256, kernel_size = (3,3), padding = \"same\", activation = \"relu\")(model)\r\n",
        "model = BatchNormalization()(model)\r\n",
        "model = Conv2D(256, kernel_size = (3,3), padding = \"same\", activation = \"relu\")(model)\r\n",
        "\r\n",
        "model = BatchNormalization()(model)\r\n",
        "\r\n",
        "model = GlobalAveragePooling2D()(model)\r\n",
        "\r\n",
        "output = Dense(10, activation = \"softmax\")(model)\r\n",
        "\r\n",
        "model = Model(input_size, output)"
      ],
      "execution_count": 13,
      "outputs": []
    },
    {
      "cell_type": "code",
      "metadata": {
        "id": "ocsUjxSgH60i"
      },
      "source": [
        "optim = SGD(learning_rate = 0.001, momentum = 0.9, nesterov = True)\r\n",
        "model.compile(optimizer = optim, loss = \"categorical_crossentropy\", metrics = [\"accuracy\"])"
      ],
      "execution_count": 14,
      "outputs": []
    },
    {
      "cell_type": "code",
      "metadata": {
        "colab": {
          "base_uri": "https://localhost:8080/"
        },
        "id": "lSVKprZFIBt3",
        "outputId": "402f4656-49a4-4bc3-a6ed-35be5ce5636d"
      },
      "source": [
        "model.summary()"
      ],
      "execution_count": 15,
      "outputs": [
        {
          "output_type": "stream",
          "text": [
            "Model: \"functional_1\"\n",
            "_________________________________________________________________\n",
            "Layer (type)                 Output Shape              Param #   \n",
            "=================================================================\n",
            "input_1 (InputLayer)         [(None, 32, 32, 3)]       0         \n",
            "_________________________________________________________________\n",
            "conv2d (Conv2D)              (None, 32, 32, 32)        896       \n",
            "_________________________________________________________________\n",
            "conv2d_1 (Conv2D)            (None, 32, 32, 32)        9248      \n",
            "_________________________________________________________________\n",
            "conv2d_2 (Conv2D)            (None, 32, 32, 32)        9248      \n",
            "_________________________________________________________________\n",
            "batch_normalization (BatchNo (None, 32, 32, 32)        128       \n",
            "_________________________________________________________________\n",
            "max_pooling2d (MaxPooling2D) (None, 16, 16, 32)        0         \n",
            "_________________________________________________________________\n",
            "conv2d_3 (Conv2D)            (None, 16, 16, 64)        18496     \n",
            "_________________________________________________________________\n",
            "batch_normalization_1 (Batch (None, 16, 16, 64)        256       \n",
            "_________________________________________________________________\n",
            "conv2d_4 (Conv2D)            (None, 16, 16, 64)        36928     \n",
            "_________________________________________________________________\n",
            "batch_normalization_2 (Batch (None, 16, 16, 64)        256       \n",
            "_________________________________________________________________\n",
            "max_pooling2d_1 (MaxPooling2 (None, 8, 8, 64)          0         \n",
            "_________________________________________________________________\n",
            "conv2d_5 (Conv2D)            (None, 8, 8, 128)         73856     \n",
            "_________________________________________________________________\n",
            "batch_normalization_3 (Batch (None, 8, 8, 128)         512       \n",
            "_________________________________________________________________\n",
            "conv2d_6 (Conv2D)            (None, 8, 8, 128)         147584    \n",
            "_________________________________________________________________\n",
            "batch_normalization_4 (Batch (None, 8, 8, 128)         512       \n",
            "_________________________________________________________________\n",
            "max_pooling2d_2 (MaxPooling2 (None, 4, 4, 128)         0         \n",
            "_________________________________________________________________\n",
            "conv2d_7 (Conv2D)            (None, 4, 4, 256)         295168    \n",
            "_________________________________________________________________\n",
            "batch_normalization_5 (Batch (None, 4, 4, 256)         1024      \n",
            "_________________________________________________________________\n",
            "conv2d_8 (Conv2D)            (None, 4, 4, 256)         590080    \n",
            "_________________________________________________________________\n",
            "batch_normalization_6 (Batch (None, 4, 4, 256)         1024      \n",
            "_________________________________________________________________\n",
            "global_average_pooling2d (Gl (None, 256)               0         \n",
            "_________________________________________________________________\n",
            "dense (Dense)                (None, 10)                2570      \n",
            "=================================================================\n",
            "Total params: 1,187,786\n",
            "Trainable params: 1,185,930\n",
            "Non-trainable params: 1,856\n",
            "_________________________________________________________________\n"
          ],
          "name": "stdout"
        }
      ]
    },
    {
      "cell_type": "code",
      "metadata": {
        "id": "Hu4FH-qqICjY",
        "colab": {
          "base_uri": "https://localhost:8080/"
        },
        "outputId": "24d95504-91d2-4ca5-ae59-cf5696b7c70a"
      },
      "source": [
        "history = model.fit(train_images, train_labels, batch_size = 256, epochs = 30, verbose = 1, validation_data = (test_images, test_labels))"
      ],
      "execution_count": 16,
      "outputs": [
        {
          "output_type": "stream",
          "text": [
            "Epoch 1/30\n",
            "196/196 [==============================] - 7s 36ms/step - loss: 1.5990 - accuracy: 0.4199 - val_loss: 2.6843 - val_accuracy: 0.1000\n",
            "Epoch 2/30\n",
            "196/196 [==============================] - 7s 33ms/step - loss: 1.2335 - accuracy: 0.5647 - val_loss: 2.9096 - val_accuracy: 0.2167\n",
            "Epoch 3/30\n",
            "196/196 [==============================] - 7s 33ms/step - loss: 1.0747 - accuracy: 0.6204 - val_loss: 1.6822 - val_accuracy: 0.4105\n",
            "Epoch 4/30\n",
            "196/196 [==============================] - 7s 34ms/step - loss: 0.9678 - accuracy: 0.6599 - val_loss: 1.2823 - val_accuracy: 0.5372\n",
            "Epoch 5/30\n",
            "196/196 [==============================] - 7s 34ms/step - loss: 0.8850 - accuracy: 0.6911 - val_loss: 1.2227 - val_accuracy: 0.5831\n",
            "Epoch 6/30\n",
            "196/196 [==============================] - 7s 34ms/step - loss: 0.8164 - accuracy: 0.7160 - val_loss: 1.2149 - val_accuracy: 0.5841\n",
            "Epoch 7/30\n",
            "196/196 [==============================] - 7s 34ms/step - loss: 0.7567 - accuracy: 0.7398 - val_loss: 1.0362 - val_accuracy: 0.6417\n",
            "Epoch 8/30\n",
            "196/196 [==============================] - 7s 35ms/step - loss: 0.7000 - accuracy: 0.7595 - val_loss: 1.3181 - val_accuracy: 0.5644\n",
            "Epoch 9/30\n",
            "196/196 [==============================] - 7s 35ms/step - loss: 0.6530 - accuracy: 0.7774 - val_loss: 0.9701 - val_accuracy: 0.6637\n",
            "Epoch 10/30\n",
            "196/196 [==============================] - 7s 35ms/step - loss: 0.6046 - accuracy: 0.7961 - val_loss: 0.9552 - val_accuracy: 0.6626\n",
            "Epoch 11/30\n",
            "196/196 [==============================] - 7s 35ms/step - loss: 0.5592 - accuracy: 0.8138 - val_loss: 0.9631 - val_accuracy: 0.6717\n",
            "Epoch 12/30\n",
            "196/196 [==============================] - 7s 36ms/step - loss: 0.5173 - accuracy: 0.8276 - val_loss: 0.8927 - val_accuracy: 0.6927\n",
            "Epoch 13/30\n",
            "196/196 [==============================] - 7s 36ms/step - loss: 0.4767 - accuracy: 0.8432 - val_loss: 0.8844 - val_accuracy: 0.6951\n",
            "Epoch 14/30\n",
            "196/196 [==============================] - 7s 36ms/step - loss: 0.4325 - accuracy: 0.8618 - val_loss: 0.9706 - val_accuracy: 0.6707\n",
            "Epoch 15/30\n",
            "196/196 [==============================] - 7s 37ms/step - loss: 0.3929 - accuracy: 0.8768 - val_loss: 0.8487 - val_accuracy: 0.7101\n",
            "Epoch 16/30\n",
            "196/196 [==============================] - 7s 36ms/step - loss: 0.3557 - accuracy: 0.8908 - val_loss: 0.8821 - val_accuracy: 0.7076\n",
            "Epoch 17/30\n",
            "196/196 [==============================] - 7s 36ms/step - loss: 0.3169 - accuracy: 0.9072 - val_loss: 0.9168 - val_accuracy: 0.6988\n",
            "Epoch 18/30\n",
            "196/196 [==============================] - 7s 36ms/step - loss: 0.2804 - accuracy: 0.9201 - val_loss: 0.9358 - val_accuracy: 0.6986\n",
            "Epoch 19/30\n",
            "196/196 [==============================] - 7s 35ms/step - loss: 0.2419 - accuracy: 0.9359 - val_loss: 0.9886 - val_accuracy: 0.6887\n",
            "Epoch 20/30\n",
            "196/196 [==============================] - 7s 35ms/step - loss: 0.2096 - accuracy: 0.9466 - val_loss: 0.8950 - val_accuracy: 0.7194\n",
            "Epoch 21/30\n",
            "196/196 [==============================] - 7s 35ms/step - loss: 0.1783 - accuracy: 0.9592 - val_loss: 0.9693 - val_accuracy: 0.7100\n",
            "Epoch 22/30\n",
            "196/196 [==============================] - 7s 35ms/step - loss: 0.1516 - accuracy: 0.9689 - val_loss: 0.9985 - val_accuracy: 0.7080\n",
            "Epoch 23/30\n",
            "196/196 [==============================] - 7s 36ms/step - loss: 0.1239 - accuracy: 0.9784 - val_loss: 0.9635 - val_accuracy: 0.7187\n",
            "Epoch 24/30\n",
            "196/196 [==============================] - 7s 36ms/step - loss: 0.1049 - accuracy: 0.9847 - val_loss: 0.9917 - val_accuracy: 0.7232\n",
            "Epoch 25/30\n",
            "196/196 [==============================] - 7s 36ms/step - loss: 0.0821 - accuracy: 0.9914 - val_loss: 0.9990 - val_accuracy: 0.7157\n",
            "Epoch 26/30\n",
            "196/196 [==============================] - 7s 36ms/step - loss: 0.0699 - accuracy: 0.9935 - val_loss: 0.9992 - val_accuracy: 0.7215\n",
            "Epoch 27/30\n",
            "196/196 [==============================] - 7s 36ms/step - loss: 0.0565 - accuracy: 0.9966 - val_loss: 1.0309 - val_accuracy: 0.7188\n",
            "Epoch 28/30\n",
            "196/196 [==============================] - 7s 36ms/step - loss: 0.0477 - accuracy: 0.9977 - val_loss: 1.0084 - val_accuracy: 0.7234\n",
            "Epoch 29/30\n",
            "196/196 [==============================] - 7s 36ms/step - loss: 0.0398 - accuracy: 0.9985 - val_loss: 1.0192 - val_accuracy: 0.7306\n",
            "Epoch 30/30\n",
            "196/196 [==============================] - 7s 36ms/step - loss: 0.0336 - accuracy: 0.9990 - val_loss: 1.0593 - val_accuracy: 0.7245\n"
          ],
          "name": "stdout"
        }
      ]
    }
  ]
}