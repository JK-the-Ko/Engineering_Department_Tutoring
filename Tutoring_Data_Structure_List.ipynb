{
  "nbformat": 4,
  "nbformat_minor": 0,
  "metadata": {
    "colab": {
      "name": "Tutoring_Data_Structure_List.ipynb",
      "provenance": [],
      "collapsed_sections": [],
      "authorship_tag": "ABX9TyNlC3orCG4YRNfUo/m4C7mT",
      "include_colab_link": true
    },
    "kernelspec": {
      "name": "python3",
      "display_name": "Python 3"
    }
  },
  "cells": [
    {
      "cell_type": "markdown",
      "metadata": {
        "id": "view-in-github",
        "colab_type": "text"
      },
      "source": [
        "<a href=\"https://colab.research.google.com/github/JaeKyunKo/Engineering_Department_Tutoring/blob/main/Tutoring_Data_Structure_List.ipynb\" target=\"_parent\"><img src=\"https://colab.research.google.com/assets/colab-badge.svg\" alt=\"Open In Colab\"/></a>"
      ]
    },
    {
      "cell_type": "markdown",
      "metadata": {
        "id": "Q9l1Gh8-v4OZ"
      },
      "source": [
        "\n",
        "**Data Structure**\n",
        "*   List"
      ]
    },
    {
      "cell_type": "markdown",
      "metadata": {
        "id": "sqY4AWv1wCE-"
      },
      "source": [
        "A way to store information"
      ]
    },
    {
      "cell_type": "code",
      "metadata": {
        "id": "arRnBEK6v_m-",
        "outputId": "04e751e2-212b-431c-efcc-684e244d7f90",
        "colab": {
          "base_uri": "https://localhost:8080/"
        }
      },
      "source": [
        "#List Declaration\n",
        "lstNum = [1,2,3,4,5]\n",
        "lstNew = list()\n",
        "for i in lstNum :\n",
        "  print(i)"
      ],
      "execution_count": 1,
      "outputs": [
        {
          "output_type": "stream",
          "text": [
            "1\n",
            "2\n",
            "3\n",
            "4\n",
            "5\n"
          ],
          "name": "stdout"
        }
      ]
    },
    {
      "cell_type": "markdown",
      "metadata": {
        "id": "mfPogeINwW9x"
      },
      "source": [
        "Python List Speciality : \"Able to store any type of variable at once\""
      ]
    },
    {
      "cell_type": "code",
      "metadata": {
        "id": "bqqjReIFwT9L",
        "outputId": "104421e0-a1ac-487b-a7c5-be8efb8817c2",
        "colab": {
          "base_uri": "https://localhost:8080/"
        }
      },
      "source": [
        "lstMixed = [1, \"10\", \"30\", 1.5000054]\n",
        "for i in lstMixed :\n",
        "  print(i)\n",
        "  print(type(i))"
      ],
      "execution_count": 2,
      "outputs": [
        {
          "output_type": "stream",
          "text": [
            "1\n",
            "<class 'int'>\n",
            "10\n",
            "<class 'str'>\n",
            "30\n",
            "<class 'str'>\n",
            "1.5000054\n",
            "<class 'float'>\n"
          ],
          "name": "stdout"
        }
      ]
    },
    {
      "cell_type": "code",
      "metadata": {
        "id": "tGU3CVBSws3v",
        "outputId": "b081ac28-9708-4100-dbce-cc9e9afbabeb",
        "colab": {
          "base_uri": "https://localhost:8080/"
        }
      },
      "source": [
        "#Factorial Example\n",
        "returnNum = 1\n",
        "for i in lstNum :\n",
        "  returnNum *= i\n",
        "print(returnNum)"
      ],
      "execution_count": 3,
      "outputs": [
        {
          "output_type": "stream",
          "text": [
            "120\n"
          ],
          "name": "stdout"
        }
      ]
    },
    {
      "cell_type": "markdown",
      "metadata": {
        "id": "bngL2piOyGCv"
      },
      "source": [
        "List Index : Location of the element stored in the list\n",
        "\n",
        "e.g. lstNum = [1,2,3,4,5]\n",
        "*   lstNum[0] -> 1\n",
        "*   lstNum[1] -> 2\n",
        "*   lstNum[4] -> 5"
      ]
    },
    {
      "cell_type": "code",
      "metadata": {
        "id": "dE2vvMtjLzsQ",
        "outputId": "c546114e-d587-4c19-9c77-cf5a415033a2",
        "colab": {
          "base_uri": "https://localhost:8080/"
        }
      },
      "source": [
        "for i in range(5) : #i -> 0~4\n",
        "  print(lstNum[i])"
      ],
      "execution_count": 5,
      "outputs": [
        {
          "output_type": "stream",
          "text": [
            "1\n",
            "2\n",
            "3\n",
            "4\n",
            "5\n"
          ],
          "name": "stdout"
        }
      ]
    },
    {
      "cell_type": "markdown",
      "metadata": {
        "id": "Gm6WIMZuxNBP"
      },
      "source": [
        "Method of List\n",
        "\n",
        "Inserting Method\n",
        "\n",
        "*   list_name.append(element) -> Adding the element at the end of the list\n",
        "*   list_name.insert(index_number, element) -> Adding the element in that particular index\n",
        "\n",
        "Deleting Method\n",
        "*   list_name.pop() -> Removing the element at the end of the list\n",
        "*   list_name.pop(index_number) -> Removing the element in that particular index\n",
        "*   del list_name[index_number]  -> Removing the element in that particular index\n",
        "\n"
      ]
    },
    {
      "cell_type": "code",
      "metadata": {
        "id": "I03kqttpxGz8",
        "outputId": "b8e458f6-a9c4-4bb2-b043-c79fa8dc3eb1",
        "colab": {
          "base_uri": "https://localhost:8080/"
        }
      },
      "source": [
        "lstEmpty = list()\n",
        "print(lstEmpty)"
      ],
      "execution_count": 6,
      "outputs": [
        {
          "output_type": "stream",
          "text": [
            "[]\n"
          ],
          "name": "stdout"
        }
      ]
    },
    {
      "cell_type": "code",
      "metadata": {
        "id": "X2c3RGIpxYph",
        "outputId": "80ad380a-844f-4160-f997-29d28e94d356",
        "colab": {
          "base_uri": "https://localhost:8080/"
        }
      },
      "source": [
        "lstEmpty.append(\"1000\")\n",
        "print(lstEmpty)"
      ],
      "execution_count": 7,
      "outputs": [
        {
          "output_type": "stream",
          "text": [
            "['1000']\n"
          ],
          "name": "stdout"
        }
      ]
    },
    {
      "cell_type": "code",
      "metadata": {
        "id": "E10FyrSixskF",
        "outputId": "0ba975e3-bdcf-4f04-a594-c34ce57b8fcb",
        "colab": {
          "base_uri": "https://localhost:8080/"
        }
      },
      "source": [
        "lstEmpty.insert(0, -10)\n",
        "print(lstEmpty)"
      ],
      "execution_count": 8,
      "outputs": [
        {
          "output_type": "stream",
          "text": [
            "[-10, '1000']\n"
          ],
          "name": "stdout"
        }
      ]
    },
    {
      "cell_type": "code",
      "metadata": {
        "id": "abUD-XWcyi0x",
        "outputId": "6f487478-4676-45eb-8cd1-12fdff438034",
        "colab": {
          "base_uri": "https://localhost:8080/"
        }
      },
      "source": [
        "lstEmpty.insert(1, 0)\n",
        "print(lstEmpty)"
      ],
      "execution_count": 9,
      "outputs": [
        {
          "output_type": "stream",
          "text": [
            "[-10, 0, '1000']\n"
          ],
          "name": "stdout"
        }
      ]
    },
    {
      "cell_type": "code",
      "metadata": {
        "id": "l054Mfj2ym_N",
        "outputId": "18679e5d-7162-416f-95be-60bf8566e61b",
        "colab": {
          "base_uri": "https://localhost:8080/"
        }
      },
      "source": [
        "removedNum = lstEmpty.pop()\n",
        "print(lstEmpty)"
      ],
      "execution_count": 10,
      "outputs": [
        {
          "output_type": "stream",
          "text": [
            "[-10, 0]\n"
          ],
          "name": "stdout"
        }
      ]
    },
    {
      "cell_type": "code",
      "metadata": {
        "id": "pFKcD_fCzZMq",
        "outputId": "4634da22-a816-462d-d130-28907ff83a89",
        "colab": {
          "base_uri": "https://localhost:8080/"
        }
      },
      "source": [
        "print(removedNum)"
      ],
      "execution_count": 11,
      "outputs": [
        {
          "output_type": "stream",
          "text": [
            "1000\n"
          ],
          "name": "stdout"
        }
      ]
    },
    {
      "cell_type": "code",
      "metadata": {
        "id": "_xaWiE9pzcHZ"
      },
      "source": [
        "del lstEmpty[0]"
      ],
      "execution_count": 12,
      "outputs": []
    },
    {
      "cell_type": "code",
      "metadata": {
        "id": "Y1VFSGbDzhz2",
        "outputId": "22890954-284e-478d-e385-95d2357f042e",
        "colab": {
          "base_uri": "https://localhost:8080/"
        }
      },
      "source": [
        "print(lstEmpty)"
      ],
      "execution_count": 13,
      "outputs": [
        {
          "output_type": "stream",
          "text": [
            "[0]\n"
          ],
          "name": "stdout"
        }
      ]
    },
    {
      "cell_type": "code",
      "metadata": {
        "id": "Lj5KcUjDznIp",
        "outputId": "6cc9b159-2d24-4d64-86fa-b43390fadf1e",
        "colab": {
          "base_uri": "https://localhost:8080/"
        }
      },
      "source": [
        "lstEmpty.pop(0)\n",
        "print(lstEmpty)"
      ],
      "execution_count": 14,
      "outputs": [
        {
          "output_type": "stream",
          "text": [
            "[]\n"
          ],
          "name": "stdout"
        }
      ]
    },
    {
      "cell_type": "markdown",
      "metadata": {
        "id": "YiLeOC642NKH"
      },
      "source": [
        "Slicing \n",
        "\n",
        "Playing with index\n",
        "\n",
        "*   Cutting the list\n",
        "*   Therefore, able to get the elements in parts\n",
        "\n",
        "\n",
        "\n",
        "\n"
      ]
    },
    {
      "cell_type": "markdown",
      "metadata": {
        "id": "dPC-ApqL3Gc0"
      },
      "source": [
        "How to slice -> list_name[start_index : end_index + 1]"
      ]
    },
    {
      "cell_type": "code",
      "metadata": {
        "id": "KElqA2_s2Q2c",
        "outputId": "1dfb2384-e996-433b-d6a7-5390c983ba5d",
        "colab": {
          "base_uri": "https://localhost:8080/"
        }
      },
      "source": [
        "lstNum = list()\n",
        "for i in range(10) :\n",
        "  lstNum.append(i)\n",
        "print(lstNum)"
      ],
      "execution_count": 15,
      "outputs": [
        {
          "output_type": "stream",
          "text": [
            "[0, 1, 2, 3, 4, 5, 6, 7, 8, 9]\n"
          ],
          "name": "stdout"
        }
      ]
    },
    {
      "cell_type": "code",
      "metadata": {
        "id": "znDRsO9i2b2M",
        "outputId": "ccfbc5d2-eacf-4585-f60c-83f82525dd06",
        "colab": {
          "base_uri": "https://localhost:8080/"
        }
      },
      "source": [
        "print(lstNum[2:8])"
      ],
      "execution_count": 17,
      "outputs": [
        {
          "output_type": "stream",
          "text": [
            "[2, 3, 4, 5, 6, 7]\n"
          ],
          "name": "stdout"
        }
      ]
    },
    {
      "cell_type": "markdown",
      "metadata": {
        "id": "ghCgY0fp-odu"
      },
      "source": [
        "Memory Address\n",
        "\n",
        "List is \"Call by Address\"\n",
        "\n",
        "Therefore, shares the original address!\n",
        "\n"
      ]
    },
    {
      "cell_type": "code",
      "metadata": {
        "id": "DbXhjcEZ-xru",
        "outputId": "a8b5e753-02c1-479e-b77a-be1e63bff0dd",
        "colab": {
          "base_uri": "https://localhost:8080/"
        }
      },
      "source": [
        "lstNum = list()\n",
        "for i in range(10) :\n",
        "  lstNum.append(i)\n",
        "print(lstNum)"
      ],
      "execution_count": 18,
      "outputs": [
        {
          "output_type": "stream",
          "text": [
            "[0, 1, 2, 3, 4, 5, 6, 7, 8, 9]\n"
          ],
          "name": "stdout"
        }
      ]
    },
    {
      "cell_type": "code",
      "metadata": {
        "id": "M6yK-vDf-3g3"
      },
      "source": [
        "#Call by Address -> Gets the same memory\n",
        "lstNew = lstNum"
      ],
      "execution_count": 19,
      "outputs": []
    },
    {
      "cell_type": "code",
      "metadata": {
        "id": "otHtWO3z-7_p",
        "outputId": "1d30d7ea-f0c5-47a7-fc7f-d391641680f8",
        "colab": {
          "base_uri": "https://localhost:8080/"
        }
      },
      "source": [
        "#Any modification applied to \"lstNew\" will be applied in the same way to \"lstNum\"\n",
        "#원격조정\n",
        "lstNew.pop() #[0,1,2,3,4,5,6,7,8]"
      ],
      "execution_count": 20,
      "outputs": [
        {
          "output_type": "execute_result",
          "data": {
            "text/plain": [
              "9"
            ]
          },
          "metadata": {
            "tags": []
          },
          "execution_count": 20
        }
      ]
    },
    {
      "cell_type": "code",
      "metadata": {
        "id": "5lgQfaIY-_2h",
        "outputId": "aa9b28f4-ee59-4305-b167-819f200cecf1",
        "colab": {
          "base_uri": "https://localhost:8080/"
        }
      },
      "source": [
        "print(lstNew, lstNum)\n",
        "print(hex(id(lstNew)), hex(id(lstNum))) #Priting the memory address"
      ],
      "execution_count": 21,
      "outputs": [
        {
          "output_type": "stream",
          "text": [
            "[0, 1, 2, 3, 4, 5, 6, 7, 8] [0, 1, 2, 3, 4, 5, 6, 7, 8]\n",
            "0x7f83793fb548 0x7f83793fb548\n"
          ],
          "name": "stdout"
        }
      ]
    },
    {
      "cell_type": "code",
      "metadata": {
        "id": "Fy3Po7gU_1is"
      },
      "source": [
        "lstNewNew = list(lstNum) #Declaring a list with new address"
      ],
      "execution_count": 23,
      "outputs": []
    },
    {
      "cell_type": "code",
      "metadata": {
        "id": "IBK6ktmR_4zN",
        "outputId": "a5fd1650-926c-4432-e5b3-65073ff7a2ce",
        "colab": {
          "base_uri": "https://localhost:8080/"
        }
      },
      "source": [
        "lstNewNew.pop()\n",
        "print(lstNewNew, lstNum)\n",
        "print(hex(id(lstNewNew)), hex(id(lstNum)))"
      ],
      "execution_count": 24,
      "outputs": [
        {
          "output_type": "stream",
          "text": [
            "[0, 1, 2, 3, 4, 5, 6, 7] [0, 1, 2, 3, 4, 5, 6, 7, 8]\n",
            "0x7f83793fbe48 0x7f83793fb548\n"
          ],
          "name": "stdout"
        }
      ]
    },
    {
      "cell_type": "code",
      "metadata": {
        "id": "_KlccVUe_Er6",
        "outputId": "62140e88-02cc-403a-e891-5e085ef22912",
        "colab": {
          "base_uri": "https://localhost:8080/"
        }
      },
      "source": [
        "#Call by Value -> Do not touch memory\n",
        "numOne = 10\n",
        "numTwo = numOne\n",
        "numTwo -= 10\n",
        "print(numOne, numTwo)\n",
        "print(hex(id(numOne)), hex(id(numTwo)))"
      ],
      "execution_count": 25,
      "outputs": [
        {
          "output_type": "stream",
          "text": [
            "10 0\n",
            "0xa68be0 0xa68aa0\n"
          ],
          "name": "stdout"
        }
      ]
    },
    {
      "cell_type": "markdown",
      "metadata": {
        "id": "V0rVXeaG0d58"
      },
      "source": [
        "Dimension of list\n",
        "\n",
        "*   1-D\n",
        "*   2-D\n",
        "*   3-D\n",
        "*   N-D\n",
        "\n",
        "Computer operates with matrices!\n",
        "\n",
        "---\n",
        "Therefore, List is Matrix!\n"
      ]
    },
    {
      "cell_type": "code",
      "metadata": {
        "id": "3nXkPHZd0tbk",
        "outputId": "948ce309-e5e6-460d-a5b4-9d189276efbe",
        "colab": {
          "base_uri": "https://localhost:8080/"
        }
      },
      "source": [
        "lstNumOne = [1,2,3,4,5] #1-D List\n",
        "lstNumTwo = [6,7,8,9,10] #1-D List\n",
        "lstTwo = [lstNumOne, lstNumTwo] #2-D List\n",
        "for i in lstTwo :\n",
        "  for j in i :\n",
        "    print(j, end = \" \") #end =\" \" -> 이어준다\n",
        "  print()"
      ],
      "execution_count": 26,
      "outputs": [
        {
          "output_type": "stream",
          "text": [
            "1 2 3 4 5 \n",
            "6 7 8 9 10 \n"
          ],
          "name": "stdout"
        }
      ]
    }
  ]
}