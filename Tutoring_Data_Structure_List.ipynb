{
  "nbformat": 4,
  "nbformat_minor": 0,
  "metadata": {
    "colab": {
      "name": "Tutoring_Data_Structure_List.ipynb",
      "provenance": [],
      "collapsed_sections": [],
      "authorship_tag": "ABX9TyOY/QjekGqtopfVaYqbmf4Q",
      "include_colab_link": true
    },
    "kernelspec": {
      "name": "python3",
      "display_name": "Python 3"
    }
  },
  "cells": [
    {
      "cell_type": "markdown",
      "metadata": {
        "id": "view-in-github",
        "colab_type": "text"
      },
      "source": [
        "<a href=\"https://colab.research.google.com/github/JaeKyunKo/Engineering_Department_Tutoring/blob/main/Tutoring_Data_Structure_List.ipynb\" target=\"_parent\"><img src=\"https://colab.research.google.com/assets/colab-badge.svg\" alt=\"Open In Colab\"/></a>"
      ]
    },
    {
      "cell_type": "markdown",
      "metadata": {
        "id": "Q9l1Gh8-v4OZ"
      },
      "source": [
        "\n",
        "Data Structure\n",
        "*   List"
      ]
    },
    {
      "cell_type": "markdown",
      "metadata": {
        "id": "sqY4AWv1wCE-"
      },
      "source": [
        "A way to store multiple number of information at once"
      ]
    },
    {
      "cell_type": "code",
      "metadata": {
        "id": "arRnBEK6v_m-"
      },
      "source": [
        "#List Declaration\n",
        "lstNum = [1,2,3,4,5]\n",
        "for i in lstNum :\n",
        "  print(i)"
      ],
      "execution_count": null,
      "outputs": []
    },
    {
      "cell_type": "markdown",
      "metadata": {
        "id": "mfPogeINwW9x"
      },
      "source": [
        "Python List Speciality \n",
        "\"Able to store any type of variable at once\""
      ]
    },
    {
      "cell_type": "code",
      "metadata": {
        "id": "bqqjReIFwT9L"
      },
      "source": [
        "lstMixed = [1, \"10\", \"30\", 1.5000054]\n",
        "for i in lstMixed :\n",
        "  print(i)\n",
        "  print(type(i))"
      ],
      "execution_count": null,
      "outputs": []
    },
    {
      "cell_type": "code",
      "metadata": {
        "id": "tGU3CVBSws3v"
      },
      "source": [
        "#Factorial Example\n",
        "returnNum = 1\n",
        "for i in lstNum :\n",
        "  returnNum *= i\n",
        "print(returnNum)"
      ],
      "execution_count": null,
      "outputs": []
    },
    {
      "cell_type": "markdown",
      "metadata": {
        "id": "bngL2piOyGCv"
      },
      "source": [
        "List Index : Location of the element stored in the list\n",
        "e.g. lstNum = [1,2,3,4,5]\n",
        "*   lstNum[0] -> 1\n",
        "*   lstNum[1] -> 2\n",
        "*   lstNum[4] -> 5"
      ]
    },
    {
      "cell_type": "markdown",
      "metadata": {
        "id": "Gm6WIMZuxNBP"
      },
      "source": [
        "Method of List\n",
        "*   list_name.append(elemet) -> Adding the element at the end of the list\n",
        "*   list_name.insert(index_number, element) -> Adding the element in that particular index\n",
        "*   list_name.pop() -> Removing the element at the end of the list\n",
        "*   list_name.pop(index_number) -> Removing the element in that particular index\n",
        "*   del list_name[index_number]  -> Removing the element in that particular index\n",
        "\n"
      ]
    },
    {
      "cell_type": "code",
      "metadata": {
        "id": "I03kqttpxGz8"
      },
      "source": [
        "lstEmpty = list()\n",
        "print(lstEmpty)"
      ],
      "execution_count": null,
      "outputs": []
    },
    {
      "cell_type": "code",
      "metadata": {
        "id": "X2c3RGIpxYph"
      },
      "source": [
        "lstEmpty.append(\"1000\")\n",
        "print(lstEmpty)"
      ],
      "execution_count": null,
      "outputs": []
    },
    {
      "cell_type": "code",
      "metadata": {
        "id": "E10FyrSixskF"
      },
      "source": [
        "lstEmpty.insert(0, -10)\n",
        "print(lstEmpty)"
      ],
      "execution_count": null,
      "outputs": []
    },
    {
      "cell_type": "code",
      "metadata": {
        "id": "abUD-XWcyi0x"
      },
      "source": [
        "lstEmpty.insert(1, 0)\n",
        "print(lstEmpty)"
      ],
      "execution_count": null,
      "outputs": []
    },
    {
      "cell_type": "code",
      "metadata": {
        "id": "l054Mfj2ym_N"
      },
      "source": [
        "removedNum = lstEmpty.pop()\n",
        "print(lstEmpty)"
      ],
      "execution_count": null,
      "outputs": []
    },
    {
      "cell_type": "code",
      "metadata": {
        "id": "pFKcD_fCzZMq"
      },
      "source": [
        "print(removedNum)"
      ],
      "execution_count": null,
      "outputs": []
    },
    {
      "cell_type": "code",
      "metadata": {
        "id": "_xaWiE9pzcHZ"
      },
      "source": [
        "del lstEmpty[0]"
      ],
      "execution_count": 30,
      "outputs": []
    },
    {
      "cell_type": "code",
      "metadata": {
        "id": "Y1VFSGbDzhz2"
      },
      "source": [
        "print(lstEmpty)"
      ],
      "execution_count": null,
      "outputs": []
    },
    {
      "cell_type": "code",
      "metadata": {
        "id": "Lj5KcUjDznIp"
      },
      "source": [
        "lstEmpty.pop(0)\n",
        "print(lstEmpty)"
      ],
      "execution_count": null,
      "outputs": []
    },
    {
      "cell_type": "markdown",
      "metadata": {
        "id": "YiLeOC642NKH"
      },
      "source": [
        "Slicing -> Playing with index\n",
        "\n",
        "*   Cutting the list\n",
        "*   Therefore, able to get the elements in parts\n",
        "\n",
        "\n",
        "\n",
        "\n"
      ]
    },
    {
      "cell_type": "markdown",
      "metadata": {
        "id": "dPC-ApqL3Gc0"
      },
      "source": [
        "How to slice -> list_name[start_index : end_index + 1]"
      ]
    },
    {
      "cell_type": "code",
      "metadata": {
        "id": "KElqA2_s2Q2c"
      },
      "source": [
        "lstNum = list()\n",
        "for i in range(10) :\n",
        "  lstNum.append(i)\n",
        "print(lstNum)"
      ],
      "execution_count": null,
      "outputs": []
    },
    {
      "cell_type": "code",
      "metadata": {
        "id": "znDRsO9i2b2M"
      },
      "source": [
        "print(lstNum[2:8])"
      ],
      "execution_count": null,
      "outputs": []
    },
    {
      "cell_type": "markdown",
      "metadata": {
        "id": "V0rVXeaG0d58"
      },
      "source": [
        "Dimension of list\n",
        "\n",
        "*   1-D\n",
        "*   2-D\n",
        "*   3-D\n",
        "*   N-D\n",
        "\n",
        "Computer operates with matrices!\n",
        "\n",
        "---\n",
        "Therefore, List is Matrix!\n"
      ]
    },
    {
      "cell_type": "code",
      "metadata": {
        "id": "3nXkPHZd0tbk",
        "outputId": "d6da3368-b00a-430c-868b-7684ac1c99a8",
        "colab": {
          "base_uri": "https://localhost:8080/"
        }
      },
      "source": [
        "lstNumOne = [1,2,3,4,5] #1-D List\n",
        "lstNumTwo = [6,7,8,9,10] #1-D List\n",
        "lstTwo = [lstNumOne, lstNumTwo] #2-D List\n",
        "for i in lstTwo :\n",
        "  for j in i :\n",
        "    print(j, end = \" \") #end =\" \" -> 이어준다\n",
        "  print()"
      ],
      "execution_count": 37,
      "outputs": [
        {
          "output_type": "stream",
          "text": [
            "1 2 3 4 5 \n",
            "6 7 8 9 10 \n"
          ],
          "name": "stdout"
        }
      ]
    }
  ]
}