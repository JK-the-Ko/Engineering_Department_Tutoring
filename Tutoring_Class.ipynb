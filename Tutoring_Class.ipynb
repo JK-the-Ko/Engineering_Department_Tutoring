{
  "nbformat": 4,
  "nbformat_minor": 0,
  "metadata": {
    "colab": {
      "name": "Tutoring_Class.ipynb",
      "provenance": [],
      "collapsed_sections": [],
      "authorship_tag": "ABX9TyNaWOMku2+9WYrxgcykjSpg",
      "include_colab_link": true
    },
    "kernelspec": {
      "name": "python3",
      "display_name": "Python 3"
    }
  },
  "cells": [
    {
      "cell_type": "markdown",
      "metadata": {
        "id": "view-in-github",
        "colab_type": "text"
      },
      "source": [
        "<a href=\"https://colab.research.google.com/github/JaeKyunKo/Engineering_Department_Tutoring/blob/main/Tutoring_Class.ipynb\" target=\"_parent\"><img src=\"https://colab.research.google.com/assets/colab-badge.svg\" alt=\"Open In Colab\"/></a>"
      ]
    },
    {
      "cell_type": "markdown",
      "metadata": {
        "id": "gOVfarRY8xpm"
      },
      "source": [
        "Class -> Bunch of Functions"
      ]
    },
    {
      "cell_type": "code",
      "metadata": {
        "id": "JpExQ8jL8s4c"
      },
      "source": [
        "class calculator : #Building\n",
        "  def __init__(self) : #__init__ -> Constructor (Concrete)\n",
        "    pass\n",
        "  def addNum(self, numOne, numTwo) :\n",
        "    return numOne + numTwo\n",
        "  def minusNum(self, numOne, numTwo) :\n",
        "    return numOne - numTwo\n",
        "  def multiplyNum(self, numOne, numTwo) :\n",
        "    return numOne * numTwo\n",
        "  def divideNum(self, numOne, numTwo) :\n",
        "    return numOne / numTwo"
      ],
      "execution_count": 1,
      "outputs": []
    },
    {
      "cell_type": "code",
      "metadata": {
        "id": "LCOHuk3Y-CYF"
      },
      "source": [
        "cal = calculator()"
      ],
      "execution_count": null,
      "outputs": []
    },
    {
      "cell_type": "code",
      "metadata": {
        "id": "yCCBq-0E-Fmi"
      },
      "source": [
        "cal.addNum(10, 10)"
      ],
      "execution_count": null,
      "outputs": []
    },
    {
      "cell_type": "code",
      "metadata": {
        "id": "CCOrKnvm-OBV"
      },
      "source": [
        "cal.minusNum(10, 10)"
      ],
      "execution_count": null,
      "outputs": []
    },
    {
      "cell_type": "code",
      "metadata": {
        "id": "kWIdJGJO-PqU"
      },
      "source": [
        "cal.multiplyNum(10, 10)"
      ],
      "execution_count": null,
      "outputs": []
    },
    {
      "cell_type": "code",
      "metadata": {
        "id": "Gk0lPAJT-Q3J"
      },
      "source": [
        "cal.divideNum(10, 10)"
      ],
      "execution_count": null,
      "outputs": []
    }
  ]
}